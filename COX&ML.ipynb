{
  "cells": [
    {
      "cell_type": "markdown",
      "metadata": {},
      "source": [
        "## Library used"
      ]
    },
    {
      "cell_type": "code",
      "execution_count": 473,
      "metadata": {},
      "outputs": [],
      "source": [
        "#utilité générale\n",
        "import matplotlib.pyplot as plt\n",
        "import numpy as np\n",
        "import pandas as pd\n",
        "import seaborn as sns\n",
        "import scipy.stats as stats\n",
        "import statsmodels.api as sm\n",
        "import warnings\n",
        "warnings.filterwarnings('ignore')\n",
        "from scipy.stats.mstats import winsorize\n",
        "from patsy import dmatrices\n",
        "\n",
        "#utilité CoxPH\n",
        "from sklearn.model_selection import train_test_split\n",
        "from lifelines import CoxPHFitter\n",
        "from lifelines.statistics import proportional_hazard_test\n",
        "\n",
        "#utilité pour les autres modèles\n",
        "from sklearn.ensemble import RandomForestClassifier\n",
        "from sklearn.linear_model import LogisticRegression\n",
        "from sklearn.metrics import classification_report\n",
        "from sklearn.preprocessing import LabelEncoder\n",
        "from imblearn.over_sampling import SMOTE\n",
        "from sklearn.metrics import roc_curve, auc\n",
        "from sklearn.tree import DecisionTreeClassifier\n",
        "from xgboost import XGBClassifier\n"
      ]
    },
    {
      "cell_type": "markdown",
      "metadata": {},
      "source": [
        "# Data Quality Check"
      ]
    },
    {
      "cell_type": "code",
      "execution_count": 474,
      "metadata": {},
      "outputs": [],
      "source": [
        "bd = pd.read_excel(\"D:/Statitics TN/Atelier 2A/SNI.xlsx\")"
      ]
    },
    {
      "cell_type": "code",
      "execution_count": 475,
      "metadata": {},
      "outputs": [
        {
          "name": "stdout",
          "output_type": "stream",
          "text": [
            "Année d'observation : [2015 2016 2017 2019 2018]\n",
            "nombre d'entreprise observée : 482\n"
          ]
        }
      ],
      "source": [
        "#Voir les année d'observation et le nombre d'entreprise observé\n",
        "au = bd['Annee'].unique()\n",
        "print(\"Année d'observation :\", au)\n",
        "\n",
        "entreprise_obs = bd['numtiers'].unique()\n",
        "print(\"nombre d'entreprise observée :\", len(entreprise_obs))"
      ]
    },
    {
      "cell_type": "code",
      "execution_count": 476,
      "metadata": {},
      "outputs": [
        {
          "name": "stdout",
          "output_type": "stream",
          "text": [
            "Il y a 12 variables catégorielles \n",
            "\n",
            "Les variables catégorielles sont : ['EXPERIENCE_MANAGEMENT_MOYENNE_DIRIGEANT', 'DIVERSITE_CLIENTS', 'DIVERSITE_FOURNISSEURS', 'IMPACT_SOCIAUX_ENVIRONNEMENTAL', 'NIVEAU_COMPETITIVITE', 'QUALITE_INFORMATION_FINANCIERE', 'REPUTATION', 'STRUCTUREDUMANAGEMENT', 'SUPPORT', 'POSITIONNEMENTMARCHE', 'Categorie_juridique', 'Secteurs']\n"
          ]
        }
      ],
      "source": [
        "#voir les variables catégorielles dans la base\n",
        "cat = [var for var in bd.columns if bd[var].dtype=='O']\n",
        "\n",
        "print('Il y a {} variables catégorielles \\n'.format(len(cat)))\n",
        "\n",
        "print('Les variables catégorielles sont :', cat)"
      ]
    },
    {
      "cell_type": "code",
      "execution_count": 477,
      "metadata": {},
      "outputs": [
        {
          "name": "stdout",
          "output_type": "stream",
          "text": [
            "Il y a 25 variables numériques \n",
            "\n",
            "Les variables numériques sont : ['numtiers', 'Annee', 'defaut', 'CHIFFRE_AFFAIRES', 'EXCEDENT_BRUT_EXPLOITATION', 'RESULTAT_EXPlOITATION', 'RESULTAT_NET', 'FINANCEMENT_PERMANENT', 'FONDS_DE_ROULEMENT', 'BESOIN_FONDS_ROULEMENT', 'CAPITAUX_PROPRES', 'TRESORIE_NETTE', 'TOTAL_BILAN', 'DETTE_FINANCIERE', 'ACTIF_CIRCULANT', 'PASSIF_CIRCULANT', 'TOTAL_ACTIF', 'TOTAL_PASSIF', 'DELAI_REGLEMENT_CLIENTS', 'DELAI_REGLEMENT_FOURNISSEURS', 'AUTO_FINANCEMENT', 'FRAIS_FINANCIERS', 'STOCK', 'Cote en bourse', 'Appartenance a un groupe']\n"
          ]
        }
      ],
      "source": [
        "#voir les variables numériques dans la base\n",
        "nm = [var for var in bd.columns if bd[var].dtype!='O']\n",
        "\n",
        "print('Il y a {} variables numériques \\n'.format(len(nm)))\n",
        "\n",
        "print('Les variables numériques sont :', nm)"
      ]
    },
    {
      "cell_type": "markdown",
      "metadata": {},
      "source": [
        "# EDA"
      ]
    },
    {
      "cell_type": "code",
      "execution_count": 478,
      "metadata": {},
      "outputs": [
        {
          "data": {
            "image/png": "[encoded data removed]",
            "text/plain": [
              "<Figure size 640x480 with 1 Axes>"
            ]
          },
          "metadata": {},
          "output_type": "display_data"
        }
      ],
      "source": [
        "# Calculez le nombre de défauts et de non-défauts\n",
        "counts = bd['defaut'].value_counts()\n",
        "\n",
        "# Créez les labels en fonction des valeurs uniques dans 'bd'\n",
        "labels = ['defaut' if x == 1 else 'non_defaut' for x in counts.index]\n",
        "\n",
        "# Créez le diagramme circulaire\n",
        "fig, ax = plt.subplots()\n",
        "ax.pie(counts, labels=labels, autopct='%1.1f%%', startangle=70)\n",
        "plt.show()\n"
      ]
    },
    {
      "cell_type": "code",
      "execution_count": 479,
      "metadata": {},
      "outputs": [
        {
          "data": {
            "text/html": [
              "<div>\n",
              "<style scoped>\n",
              "    .dataframe tbody tr th:only-of-type {\n",
              "        vertical-align: middle;\n",
              "    }\n",
              "\n",
              "    .dataframe tbody tr th {\n",
              "        vertical-align: top;\n",
              "    }\n",
              "\n",
              "    .dataframe thead th {\n",
              "        text-align: right;\n",
              "    }\n",
              "</style>\n",
              "<table border=\"1\" class=\"dataframe\">\n",
              "  <thead>\n",
              "    <tr style=\"text-align: right;\">\n",
              "      <th></th>\n",
              "      <th>Nombre d'entreprises observées</th>\n",
              "      <th>Nombre de défauts observés</th>\n",
              "    </tr>\n",
              "    <tr>\n",
              "      <th>Annee</th>\n",
              "      <th></th>\n",
              "      <th></th>\n",
              "    </tr>\n",
              "  </thead>\n",
              "  <tbody>\n",
              "    <tr>\n",
              "      <th>2015</th>\n",
              "      <td>356</td>\n",
              "      <td>17</td>\n",
              "    </tr>\n",
              "    <tr>\n",
              "      <th>2016</th>\n",
              "      <td>371</td>\n",
              "      <td>4</td>\n",
              "    </tr>\n",
              "    <tr>\n",
              "      <th>2017</th>\n",
              "      <td>336</td>\n",
              "      <td>6</td>\n",
              "    </tr>\n",
              "    <tr>\n",
              "      <th>2018</th>\n",
              "      <td>254</td>\n",
              "      <td>11</td>\n",
              "    </tr>\n",
              "    <tr>\n",
              "      <th>2019</th>\n",
              "      <td>204</td>\n",
              "      <td>15</td>\n",
              "    </tr>\n",
              "  </tbody>\n",
              "</table>\n",
              "</div>"
            ],
            "text/plain": [
              "       Nombre d'entreprises observées  Nombre de défauts observés\n",
              "Annee                                                            \n",
              "2015                              356                          17\n",
              "2016                              371                           4\n",
              "2017                              336                           6\n",
              "2018                              254                          11\n",
              "2019                              204                          15"
            ]
          },
          "execution_count": 479,
          "metadata": {},
          "output_type": "execute_result"
        }
      ],
      "source": [
        "grouped_data = bd.groupby(\"Annee\")\n",
        "\n",
        "# Compter le nombre d'entreprises et de défauts pour chaque année\n",
        "entreprise_counts = grouped_data[\"numtiers\"].nunique()\n",
        "defaut_counts = grouped_data[\"defaut\"].sum()  # Somme des valeurs binaires (1 pour défaut)\n",
        "\n",
        "# Créer un DataFrame avec les résultats\n",
        "resultats = pd.DataFrame({\n",
        "    \"Nombre d'entreprises observées\": entreprise_counts,\n",
        "    \"Nombre de défauts observés\": defaut_counts\n",
        "})\n",
        "\n",
        "resultats"
      ]
    },
    {
      "cell_type": "code",
      "execution_count": 480,
      "metadata": {},
      "outputs": [
        {
          "name": "stdout",
          "output_type": "stream",
          "text": [
            "Entreprises observées pendant toutes les années d'observation:\n",
            "78\n"
          ]
        }
      ],
      "source": [
        "grouped_data_2 = bd.groupby(\"numtiers\")\n",
        "\n",
        "annees_observations = bd[\"Annee\"].unique()\n",
        "\n",
        "\n",
        "# Compter le nombre d'années d'observation pour chaque entreprise\n",
        "annees_observation_par_entreprise = grouped_data_2[\"Annee\"].nunique()\n",
        "\n",
        "# Filtrer les entreprises observées pendant toutes les années\n",
        "entreprises_observées_toutes_années = annees_observation_par_entreprise[annees_observation_par_entreprise == len(annees_observations)]\n",
        "\n",
        "# Afficher les entreprises observées pendant toutes les années\n",
        "print(\"Entreprises observées pendant toutes les années d'observation:\")\n",
        "print(len(entreprises_observées_toutes_années))"
      ]
    },
    {
      "cell_type": "code",
      "execution_count": 481,
      "metadata": {},
      "outputs": [
        {
          "data": {
            "text/html": [
              "<div>\n",
              "<style scoped>\n",
              "    .dataframe tbody tr th:only-of-type {\n",
              "        vertical-align: middle;\n",
              "    }\n",
              "\n",
              "    .dataframe tbody tr th {\n",
              "        vertical-align: top;\n",
              "    }\n",
              "\n",
              "    .dataframe thead th {\n",
              "        text-align: right;\n",
              "    }\n",
              "</style>\n",
              "<table border=\"1\" class=\"dataframe\">\n",
              "  <thead>\n",
              "    <tr style=\"text-align: right;\">\n",
              "      <th></th>\n",
              "      <th>Taux de defaut</th>\n",
              "    </tr>\n",
              "    <tr>\n",
              "      <th>Categorie_juridique</th>\n",
              "      <th></th>\n",
              "    </tr>\n",
              "  </thead>\n",
              "  <tbody>\n",
              "    <tr>\n",
              "      <th>Autres forme juridique</th>\n",
              "      <td>0.000000</td>\n",
              "    </tr>\n",
              "    <tr>\n",
              "      <th>SA</th>\n",
              "      <td>0.033088</td>\n",
              "    </tr>\n",
              "    <tr>\n",
              "      <th>SARL</th>\n",
              "      <td>0.039627</td>\n",
              "    </tr>\n",
              "  </tbody>\n",
              "</table>\n",
              "</div>"
            ],
            "text/plain": [
              "                        Taux de defaut\n",
              "Categorie_juridique                   \n",
              "Autres forme juridique        0.000000\n",
              "SA                            0.033088\n",
              "SARL                          0.039627"
            ]
          },
          "execution_count": 481,
          "metadata": {},
          "output_type": "execute_result"
        }
      ],
      "source": [
        "juridic_counts = bd.groupby(['Categorie_juridique', 'defaut']).size().unstack(fill_value=0)\n",
        "\n",
        "taux_defaut_par_categorie = juridic_counts[1] / (juridic_counts[0] + juridic_counts[1])\n",
        "\n",
        "pd.DataFrame({\"Taux de defaut\" : taux_defaut_par_categorie})\n"
      ]
    },
    {
      "cell_type": "code",
      "execution_count": 482,
      "metadata": {},
      "outputs": [
        {
          "data": {
            "text/html": [
              "<div>\n",
              "<style scoped>\n",
              "    .dataframe tbody tr th:only-of-type {\n",
              "        vertical-align: middle;\n",
              "    }\n",
              "\n",
              "    .dataframe tbody tr th {\n",
              "        vertical-align: top;\n",
              "    }\n",
              "\n",
              "    .dataframe thead th {\n",
              "        text-align: right;\n",
              "    }\n",
              "</style>\n",
              "<table border=\"1\" class=\"dataframe\">\n",
              "  <thead>\n",
              "    <tr style=\"text-align: right;\">\n",
              "      <th>defaut</th>\n",
              "      <th>Secteurs</th>\n",
              "      <th>Taux_Defaut</th>\n",
              "    </tr>\n",
              "  </thead>\n",
              "  <tbody>\n",
              "    <tr>\n",
              "      <th>0</th>\n",
              "      <td>Activites financières</td>\n",
              "      <td>0.050000</td>\n",
              "    </tr>\n",
              "    <tr>\n",
              "      <th>1</th>\n",
              "      <td>Administrations publiques</td>\n",
              "      <td>0.000000</td>\n",
              "    </tr>\n",
              "    <tr>\n",
              "      <th>2</th>\n",
              "      <td>Agriculture, chasse et sylviculture</td>\n",
              "      <td>0.000000</td>\n",
              "    </tr>\n",
              "    <tr>\n",
              "      <th>3</th>\n",
              "      <td>Autres sections</td>\n",
              "      <td>0.069231</td>\n",
              "    </tr>\n",
              "    <tr>\n",
              "      <th>4</th>\n",
              "      <td>Bâtiments et travaux publics</td>\n",
              "      <td>0.058140</td>\n",
              "    </tr>\n",
              "    <tr>\n",
              "      <th>5</th>\n",
              "      <td>Commerce, reparations automobiles et d'article...</td>\n",
              "      <td>0.016097</td>\n",
              "    </tr>\n",
              "    <tr>\n",
              "      <th>6</th>\n",
              "      <td>Hôtels et restaurants</td>\n",
              "      <td>0.000000</td>\n",
              "    </tr>\n",
              "    <tr>\n",
              "      <th>7</th>\n",
              "      <td>Industries agroalimentaires et du tabac</td>\n",
              "      <td>0.015789</td>\n",
              "    </tr>\n",
              "    <tr>\n",
              "      <th>8</th>\n",
              "      <td>Industries chimiques et parachimiques</td>\n",
              "      <td>0.025641</td>\n",
              "    </tr>\n",
              "    <tr>\n",
              "      <th>9</th>\n",
              "      <td>Industries du textile, de l'habillement et des...</td>\n",
              "      <td>0.048780</td>\n",
              "    </tr>\n",
              "    <tr>\n",
              "      <th>10</th>\n",
              "      <td>Industries extractives</td>\n",
              "      <td>0.000000</td>\n",
              "    </tr>\n",
              "    <tr>\n",
              "      <th>11</th>\n",
              "      <td>Industries manufacturières diverses</td>\n",
              "      <td>0.020833</td>\n",
              "    </tr>\n",
              "    <tr>\n",
              "      <th>12</th>\n",
              "      <td>Industries metallurgiques, mecaniques, electri...</td>\n",
              "      <td>0.067797</td>\n",
              "    </tr>\n",
              "    <tr>\n",
              "      <th>13</th>\n",
              "      <td>Production et distribution d'electricite, de g...</td>\n",
              "      <td>0.043478</td>\n",
              "    </tr>\n",
              "    <tr>\n",
              "      <th>14</th>\n",
              "      <td>Promotion Immobilière</td>\n",
              "      <td>0.125000</td>\n",
              "    </tr>\n",
              "    <tr>\n",
              "      <th>15</th>\n",
              "      <td>Pêche, Aquaculture</td>\n",
              "      <td>0.000000</td>\n",
              "    </tr>\n",
              "    <tr>\n",
              "      <th>16</th>\n",
              "      <td>Transport et Communication</td>\n",
              "      <td>0.000000</td>\n",
              "    </tr>\n",
              "  </tbody>\n",
              "</table>\n",
              "</div>"
            ],
            "text/plain": [
              "defaut                                           Secteurs  Taux_Defaut\n",
              "0                                   Activites financières     0.050000\n",
              "1                               Administrations publiques     0.000000\n",
              "2                     Agriculture, chasse et sylviculture     0.000000\n",
              "3                                         Autres sections     0.069231\n",
              "4                            Bâtiments et travaux publics     0.058140\n",
              "5       Commerce, reparations automobiles et d'article...     0.016097\n",
              "6                                   Hôtels et restaurants     0.000000\n",
              "7                 Industries agroalimentaires et du tabac     0.015789\n",
              "8                   Industries chimiques et parachimiques     0.025641\n",
              "9       Industries du textile, de l'habillement et des...     0.048780\n",
              "10                                 Industries extractives     0.000000\n",
              "11                    Industries manufacturières diverses     0.020833\n",
              "12      Industries metallurgiques, mecaniques, electri...     0.067797\n",
              "13      Production et distribution d'electricite, de g...     0.043478\n",
              "14                                  Promotion Immobilière     0.125000\n",
              "15                                     Pêche, Aquaculture     0.000000\n",
              "16                             Transport et Communication     0.000000"
            ]
          },
          "execution_count": 482,
          "metadata": {},
          "output_type": "execute_result"
        }
      ],
      "source": [
        "secteur_counts = bd.groupby(['Secteurs', 'defaut']).size().unstack(fill_value=0)\n",
        "\n",
        "# Calcul du taux de défaut pour chaque secteur\n",
        "secteur_counts['Taux_Defaut'] = secteur_counts[1] / (secteur_counts[0] + secteur_counts[1])\n",
        "\n",
        "df_taux_defaut = secteur_counts[['Taux_Defaut']].reset_index()\n",
        "\n",
        "# Affichage du DataFrame\n",
        "df_taux_defaut"
      ]
    },
    {
      "cell_type": "code",
      "execution_count": 483,
      "metadata": {},
      "outputs": [
        {
          "data": {
            "text/html": [
              "<div>\n",
              "<style scoped>\n",
              "    .dataframe tbody tr th:only-of-type {\n",
              "        vertical-align: middle;\n",
              "    }\n",
              "\n",
              "    .dataframe tbody tr th {\n",
              "        vertical-align: top;\n",
              "    }\n",
              "\n",
              "    .dataframe thead th {\n",
              "        text-align: right;\n",
              "    }\n",
              "</style>\n",
              "<table border=\"1\" class=\"dataframe\">\n",
              "  <thead>\n",
              "    <tr style=\"text-align: right;\">\n",
              "      <th></th>\n",
              "      <th>defaut</th>\n",
              "    </tr>\n",
              "    <tr>\n",
              "      <th>Annee</th>\n",
              "      <th></th>\n",
              "    </tr>\n",
              "  </thead>\n",
              "  <tbody>\n",
              "    <tr>\n",
              "      <th>2015</th>\n",
              "      <td>0.047753</td>\n",
              "    </tr>\n",
              "    <tr>\n",
              "      <th>2016</th>\n",
              "      <td>0.010782</td>\n",
              "    </tr>\n",
              "    <tr>\n",
              "      <th>2017</th>\n",
              "      <td>0.017857</td>\n",
              "    </tr>\n",
              "    <tr>\n",
              "      <th>2018</th>\n",
              "      <td>0.043307</td>\n",
              "    </tr>\n",
              "    <tr>\n",
              "      <th>2019</th>\n",
              "      <td>0.073529</td>\n",
              "    </tr>\n",
              "  </tbody>\n",
              "</table>\n",
              "</div>"
            ],
            "text/plain": [
              "         defaut\n",
              "Annee          \n",
              "2015   0.047753\n",
              "2016   0.010782\n",
              "2017   0.017857\n",
              "2018   0.043307\n",
              "2019   0.073529"
            ]
          },
          "execution_count": 483,
          "metadata": {},
          "output_type": "execute_result"
        }
      ],
      "source": [
        "defaut_par_annee = bd.groupby([\"Annee\", \"numtiers\"])[\"defaut\"].mean().groupby(\"Annee\").mean()\n",
        "\n",
        "pd.DataFrame(defaut_par_annee)"
      ]
    },
    {
      "cell_type": "code",
      "execution_count": 484,
      "metadata": {},
      "outputs": [],
      "source": [
        "jr = bd.copy()"
      ]
    },
    {
      "cell_type": "code",
      "execution_count": 485,
      "metadata": {},
      "outputs": [],
      "source": [
        "# Grouper par 'Secteurs' et vérifier s'il y a des défauts\n",
        "secteur_defaut = jr.groupby('Secteurs')['defaut'].max()\n",
        "\n",
        "# Créer la nouvelle colonne 'Secteur_class'\n",
        "jr['Secteur_class'] = jr['Secteurs'].apply(lambda x: 'Sans défaut' if secteur_defaut[x] == 0 else 'Avec défaut')"
      ]
    },
    {
      "cell_type": "code",
      "execution_count": 486,
      "metadata": {},
      "outputs": [
        {
          "data": {
            "text/plain": [
              "Secteur_class\n",
              "Avec défaut    1396\n",
              "Sans défaut     125\n",
              "Name: count, dtype: int64"
            ]
          },
          "execution_count": 486,
          "metadata": {},
          "output_type": "execute_result"
        }
      ],
      "source": [
        "jr['Secteur_class'].value_counts()"
      ]
    },
    {
      "cell_type": "code",
      "execution_count": 487,
      "metadata": {},
      "outputs": [],
      "source": [
        "jr['Taille_Entreprise'] = np.log(jr['CHIFFRE_AFFAIRES'])  # log(CA) : taille entreprise"
      ]
    },
    {
      "cell_type": "code",
      "execution_count": 488,
      "metadata": {},
      "outputs": [
        {
          "data": {
            "text/plain": [
              "0    19.279653\n",
              "1    19.369968\n",
              "2    19.125887\n",
              "3    19.166978\n",
              "4    18.962932\n",
              "Name: Taille_Entreprise, dtype: float64"
            ]
          },
          "execution_count": 488,
          "metadata": {},
          "output_type": "execute_result"
        }
      ],
      "source": [
        "jr['Taille_Entreprise'].head()"
      ]
    },
    {
      "cell_type": "code",
      "execution_count": 489,
      "metadata": {},
      "outputs": [
        {
          "data": {
            "text/plain": [
              "24.563724170212907"
            ]
          },
          "execution_count": 489,
          "metadata": {},
          "output_type": "execute_result"
        }
      ],
      "source": [
        "jr['Taille_Entreprise'].max()"
      ]
    },
    {
      "cell_type": "markdown",
      "metadata": {},
      "source": [
        "## Courbe de survie"
      ]
    },
    {
      "cell_type": "code",
      "execution_count": 490,
      "metadata": {},
      "outputs": [
        {
          "data": {
            "image/png": "[encoded data removed]",
            "text/plain": [
              "<Figure size 1000x600 with 1 Axes>"
            ]
          },
          "metadata": {},
          "output_type": "display_data"
        }
      ],
      "source": [
        "result_data = {\n",
        "  'Annee': [int(x) for x in [2015, 2016, 2017, 2018, 2019]],\n",
        "  'defaut': [0, 0, 0, 0, 0],\n",
        "  0: [339, 367, 330, 243, 189],\n",
        "  1: [17, 4, 6, 11, 15],\n",
        "  'n': [356, 371, 336, 254, 204],\n",
        "  'd': [0.047753, 0.010782, 0.017857, 0.043307, 0.073529],\n",
        "  's': [0.952247, 0.989218, 0.982143, 0.956693, 0.926471],\n",
        "  'S': [0.952247, 0.941980, 0.925, 0.8851, 0.82]\n",
        "}\n",
        "\n",
        "\n",
        "result = pd.DataFrame(result_data)\n",
        "\n",
        "plt.figure(figsize=(10, 6))\n",
        "plt.plot(result['Annee'], result['S'], marker='o')\n",
        "plt.xlabel('Année')\n",
        "plt.ylabel('S(t)')\n",
        "plt.title('Courbe de survie')\n",
        "plt.grid(False)\n",
        "plt.show()"
      ]
    },
    {
      "cell_type": "markdown",
      "metadata": {},
      "source": [
        "# Calcul des Ratios"
      ]
    },
    {
      "cell_type": "code",
      "execution_count": 491,
      "metadata": {},
      "outputs": [],
      "source": [
        "# traitement pour ACTIF_CIRCULANT et PASSIF_CIRCULANT\n",
        "sector_means_actif = jr.groupby('Secteurs')['ACTIF_CIRCULANT'].mean()\n",
        "sector_means_passif = jr.groupby('Secteurs')['PASSIF_CIRCULANT'].mean()\n",
        "\n",
        "sector_means_dict_actif = sector_means_actif.to_dict()\n",
        "sector_means_dict_passif = sector_means_passif.to_dict()\n",
        "\n",
        "jr['ACTIF_CIRCULANT'] = jr.apply(lambda x: sector_means_dict_actif[x['Secteurs']] if x['ACTIF_CIRCULANT'] == 0 else x['ACTIF_CIRCULANT'], axis=1)\n",
        "jr['PASSIF_CIRCULANT'] = jr.apply(lambda x: sector_means_dict_passif[x['Secteurs']] if x['PASSIF_CIRCULANT'] == 0 else x['PASSIF_CIRCULANT'], axis=1)\n",
        "\n",
        "\n",
        "# traitement pout TOTAL_ACTIF\n",
        "sector_means_TA = jr.groupby('Secteurs')['TOTAL_ACTIF'].mean()\n",
        "sector_means_dict_TA = sector_means_TA.to_dict()\n",
        "jr['TOTAL_ACTIF'] = jr.apply(lambda x: sector_means_dict_TA[x['Secteurs']] if x['TOTAL_ACTIF'] == 0 else x['TOTAL_ACTIF'], axis=1)"
      ]
    },
    {
      "cell_type": "code",
      "execution_count": 492,
      "metadata": {},
      "outputs": [],
      "source": [
        "jr['RLG'] = jr['ACTIF_CIRCULANT']/jr['PASSIF_CIRCULANT'] #ratio de liquidité globale\n",
        "jr['RKP'] = jr['CAPITAUX_PROPRES']/jr['TOTAL_PASSIF'] #ratio des capitaux propres\n",
        "jr['MBE'] = jr['EXCEDENT_BRUT_EXPLOITATION']/jr['CHIFFRE_AFFAIRES'] #marge brute d'exxploitation\n",
        "jr['RE'] = jr['RESULTAT_NET']/jr['TOTAL_ACTIF'] #rendement économique\n",
        "jr['RD'] = 1 - jr['RKP'] #ratio d'endettement\n",
        "jr['RDA'] = jr['CHIFFRE_AFFAIRES']/jr['TOTAL_ACTIF'] #ratio de rotation des actifs"
      ]
    },
    {
      "cell_type": "code",
      "execution_count": 493,
      "metadata": {},
      "outputs": [
        {
          "data": {
            "text/html": [
              "<div>\n",
              "<style scoped>\n",
              "    .dataframe tbody tr th:only-of-type {\n",
              "        vertical-align: middle;\n",
              "    }\n",
              "\n",
              "    .dataframe tbody tr th {\n",
              "        vertical-align: top;\n",
              "    }\n",
              "\n",
              "    .dataframe thead th {\n",
              "        text-align: right;\n",
              "    }\n",
              "</style>\n",
              "<table border=\"1\" class=\"dataframe\">\n",
              "  <thead>\n",
              "    <tr style=\"text-align: right;\">\n",
              "      <th></th>\n",
              "      <th>RLG</th>\n",
              "      <th>RKP</th>\n",
              "      <th>MBE</th>\n",
              "      <th>RE</th>\n",
              "      <th>RD</th>\n",
              "      <th>RDA</th>\n",
              "    </tr>\n",
              "  </thead>\n",
              "  <tbody>\n",
              "    <tr>\n",
              "      <th>count</th>\n",
              "      <td>1521.000000</td>\n",
              "      <td>1520.000000</td>\n",
              "      <td>1521.000000</td>\n",
              "      <td>1521.000000</td>\n",
              "      <td>1520.000000</td>\n",
              "      <td>1521.000000</td>\n",
              "    </tr>\n",
              "    <tr>\n",
              "      <th>mean</th>\n",
              "      <td>2.352496</td>\n",
              "      <td>0.289734</td>\n",
              "      <td>19.487807</td>\n",
              "      <td>0.027990</td>\n",
              "      <td>0.710266</td>\n",
              "      <td>1.207294</td>\n",
              "    </tr>\n",
              "    <tr>\n",
              "      <th>std</th>\n",
              "      <td>7.323508</td>\n",
              "      <td>0.228017</td>\n",
              "      <td>757.468159</td>\n",
              "      <td>0.082681</td>\n",
              "      <td>0.228017</td>\n",
              "      <td>1.012293</td>\n",
              "    </tr>\n",
              "    <tr>\n",
              "      <th>min</th>\n",
              "      <td>0.007588</td>\n",
              "      <td>-2.990561</td>\n",
              "      <td>-26.270117</td>\n",
              "      <td>-1.276431</td>\n",
              "      <td>0.037428</td>\n",
              "      <td>0.000694</td>\n",
              "    </tr>\n",
              "    <tr>\n",
              "      <th>25%</th>\n",
              "      <td>1.233140</td>\n",
              "      <td>0.153674</td>\n",
              "      <td>0.028577</td>\n",
              "      <td>0.006527</td>\n",
              "      <td>0.587916</td>\n",
              "      <td>0.739949</td>\n",
              "    </tr>\n",
              "    <tr>\n",
              "      <th>50%</th>\n",
              "      <td>1.702021</td>\n",
              "      <td>0.258154</td>\n",
              "      <td>0.060557</td>\n",
              "      <td>0.019439</td>\n",
              "      <td>0.741846</td>\n",
              "      <td>1.039180</td>\n",
              "    </tr>\n",
              "    <tr>\n",
              "      <th>75%</th>\n",
              "      <td>2.313138</td>\n",
              "      <td>0.412084</td>\n",
              "      <td>0.107943</td>\n",
              "      <td>0.049928</td>\n",
              "      <td>0.846326</td>\n",
              "      <td>1.520506</td>\n",
              "    </tr>\n",
              "    <tr>\n",
              "      <th>max</th>\n",
              "      <td>247.322767</td>\n",
              "      <td>0.962572</td>\n",
              "      <td>29541.295457</td>\n",
              "      <td>0.857895</td>\n",
              "      <td>3.990561</td>\n",
              "      <td>26.485113</td>\n",
              "    </tr>\n",
              "  </tbody>\n",
              "</table>\n",
              "</div>"
            ],
            "text/plain": [
              "               RLG          RKP           MBE           RE           RD  \\\n",
              "count  1521.000000  1520.000000   1521.000000  1521.000000  1520.000000   \n",
              "mean      2.352496     0.289734     19.487807     0.027990     0.710266   \n",
              "std       7.323508     0.228017    757.468159     0.082681     0.228017   \n",
              "min       0.007588    -2.990561    -26.270117    -1.276431     0.037428   \n",
              "25%       1.233140     0.153674      0.028577     0.006527     0.587916   \n",
              "50%       1.702021     0.258154      0.060557     0.019439     0.741846   \n",
              "75%       2.313138     0.412084      0.107943     0.049928     0.846326   \n",
              "max     247.322767     0.962572  29541.295457     0.857895     3.990561   \n",
              "\n",
              "               RDA  \n",
              "count  1521.000000  \n",
              "mean      1.207294  \n",
              "std       1.012293  \n",
              "min       0.000694  \n",
              "25%       0.739949  \n",
              "50%       1.039180  \n",
              "75%       1.520506  \n",
              "max      26.485113  "
            ]
          },
          "execution_count": 493,
          "metadata": {},
          "output_type": "execute_result"
        }
      ],
      "source": [
        "variables = ['RLG', 'RKP', 'MBE', 'RE','RD','RDA']\n",
        "\n",
        "# Calcul des statistiques descriptives\n",
        "descriptive_stats = jr[variables].describe()\n",
        "\n",
        "descriptive_stats"
      ]
    },
    {
      "cell_type": "code",
      "execution_count": 494,
      "metadata": {},
      "outputs": [
        {
          "data": {
            "text/plain": [
              "RLG    12.381110\n",
              "RKP     0.819309\n",
              "MBE     0.736786\n",
              "RE      0.262474\n",
              "RD      1.182289\n",
              "RDA     3.915259\n",
              "Name: 0.99, dtype: float64"
            ]
          },
          "execution_count": 494,
          "metadata": {},
          "output_type": "execute_result"
        }
      ],
      "source": [
        "p99 = jr[variables].quantile(0.99)\n",
        "\n",
        "p99\n"
      ]
    },
    {
      "cell_type": "markdown",
      "metadata": {},
      "source": [
        "# WoE"
      ]
    },
    {
      "cell_type": "code",
      "execution_count": 495,
      "metadata": {},
      "outputs": [],
      "source": [
        "def calculate_woe(df, col, target_col):\n",
        "    \n",
        "    total_pos = df[target_col].sum() #nb total des defaut==1\n",
        "    total_neg = len(df) - total_pos #nb total des defaut==0\n",
        "    woe_values = {}\n",
        "    \n",
        "    for category in df[col].unique():\n",
        "        pos = df[(df[col] == category) & (df[target_col] == 1)].shape[0]\n",
        "        neg = df[(df[col] == category) & (df[target_col] == 0)].shape[0]\n",
        "        \n",
        "        # Éviter la division par zéro\n",
        "        if pos == 0:\n",
        "            pos_dist = 0.0001\n",
        "        else:\n",
        "            pos_dist = pos / total_pos\n",
        "        \n",
        "        if neg == 0:\n",
        "            neg_dist = 0.0001\n",
        "        else:\n",
        "            neg_dist = neg / total_neg\n",
        "        \n",
        "        # Calcul du WoE\n",
        "        woe = np.log(pos_dist / neg_dist)\n",
        "        woe_values[category] = woe\n",
        "    \n",
        "    return woe_values\n"
      ]
    },
    {
      "cell_type": "markdown",
      "metadata": {},
      "source": [
        "# Features Selection\n",
        "\n",
        "On se dit qu'on va observer les valeurs du WoE et l'Information Value pour choisir nos variables."
      ]
    },
    {
      "cell_type": "markdown",
      "metadata": {},
      "source": [
        "### $\\textbf{Observation des ratios}$"
      ]
    },
    {
      "cell_type": "markdown",
      "metadata": {},
      "source": [
        "##### $\\textbf{Winsorization}$\n",
        "\n",
        "La winsorisation (winsorizing en anglais) est un procédé en statistiques visant à limiter l'impact de données aberrantes dans l'estimation d'un paramètre. Le nom winsorisation a été donné par John Tukey en l'honneur du biostatisticien Charles Winsor.\n",
        "\n",
        "Dans la fonction winsorize le paramètre $\\textbf{limits}$ indique les valeurs à remplacer avec la méthode.\n",
        "\n",
        "Par exemple : limits = [0.01,0.025] : les valeurs en dessous du 1er percentile seront remplacées par la valeur qui se trouve au 1er percentile et les valeurs qui sont superieures au 97.5eme percentile sont remplacées par la valeur au 97.5eme percentile."
      ]
    },
    {
      "cell_type": "code",
      "execution_count": 496,
      "metadata": {},
      "outputs": [],
      "source": [
        "#RE\n",
        "jr['RE'] = winsorize(jr['RE'], limits=[0.25,0.01])\n",
        "#Rotation des actifs\n",
        "jr['RDA'] = winsorize(jr['RDA'], limits = [0.25,0.005])\n",
        "#ratio d'endettement\n",
        "jr['RD'] = winsorize(jr['RD'], limits = [0.01,0.025])\n",
        "#Marge brute d'exploitation\n",
        "jr['MBE'] = winsorize(jr['MBE'], limits = [0.1,0.0025])\n",
        "#Ratio de Liquidité générale\n",
        "jr['RLG'] = winsorize(jr['RLG'], limits = [0.01,0.05])\n",
        "#ratio des capitaaux propres\n",
        "jr['RKP'] = winsorize(jr['RKP'], limits = [0.029, 0])"
      ]
    },
    {
      "cell_type": "code",
      "execution_count": 497,
      "metadata": {},
      "outputs": [
        {
          "data": {
            "text/html": [
              "<div>\n",
              "<style scoped>\n",
              "    .dataframe tbody tr th:only-of-type {\n",
              "        vertical-align: middle;\n",
              "    }\n",
              "\n",
              "    .dataframe tbody tr th {\n",
              "        vertical-align: top;\n",
              "    }\n",
              "\n",
              "    .dataframe thead th {\n",
              "        text-align: right;\n",
              "    }\n",
              "</style>\n",
              "<table border=\"1\" class=\"dataframe\">\n",
              "  <thead>\n",
              "    <tr style=\"text-align: right;\">\n",
              "      <th></th>\n",
              "      <th>RLG</th>\n",
              "      <th>RKP</th>\n",
              "      <th>MBE</th>\n",
              "      <th>RE</th>\n",
              "      <th>RD</th>\n",
              "      <th>RDA</th>\n",
              "    </tr>\n",
              "  </thead>\n",
              "  <tbody>\n",
              "    <tr>\n",
              "      <th>count</th>\n",
              "      <td>1521.000000</td>\n",
              "      <td>1520.000000</td>\n",
              "      <td>1521.000000</td>\n",
              "      <td>1521.000000</td>\n",
              "      <td>1521.000000</td>\n",
              "      <td>1521.000000</td>\n",
              "    </tr>\n",
              "    <tr>\n",
              "      <th>mean</th>\n",
              "      <td>1.913494</td>\n",
              "      <td>0.298270</td>\n",
              "      <td>0.096490</td>\n",
              "      <td>0.038408</td>\n",
              "      <td>0.702786</td>\n",
              "      <td>1.271792</td>\n",
              "    </tr>\n",
              "    <tr>\n",
              "      <th>std</th>\n",
              "      <td>0.972658</td>\n",
              "      <td>0.189170</td>\n",
              "      <td>0.131318</td>\n",
              "      <td>0.047146</td>\n",
              "      <td>0.188192</td>\n",
              "      <td>0.676649</td>\n",
              "    </tr>\n",
              "    <tr>\n",
              "      <th>min</th>\n",
              "      <td>0.400001</td>\n",
              "      <td>0.003300</td>\n",
              "      <td>0.004307</td>\n",
              "      <td>0.006527</td>\n",
              "      <td>0.179404</td>\n",
              "      <td>0.739949</td>\n",
              "    </tr>\n",
              "    <tr>\n",
              "      <th>25%</th>\n",
              "      <td>1.233140</td>\n",
              "      <td>0.153674</td>\n",
              "      <td>0.028577</td>\n",
              "      <td>0.006527</td>\n",
              "      <td>0.588068</td>\n",
              "      <td>0.739949</td>\n",
              "    </tr>\n",
              "    <tr>\n",
              "      <th>50%</th>\n",
              "      <td>1.702021</td>\n",
              "      <td>0.258154</td>\n",
              "      <td>0.060557</td>\n",
              "      <td>0.019439</td>\n",
              "      <td>0.741949</td>\n",
              "      <td>1.039180</td>\n",
              "    </tr>\n",
              "    <tr>\n",
              "      <th>75%</th>\n",
              "      <td>2.313138</td>\n",
              "      <td>0.412084</td>\n",
              "      <td>0.107943</td>\n",
              "      <td>0.049928</td>\n",
              "      <td>0.846359</td>\n",
              "      <td>1.520506</td>\n",
              "    </tr>\n",
              "    <tr>\n",
              "      <th>max</th>\n",
              "      <td>4.528551</td>\n",
              "      <td>0.962572</td>\n",
              "      <td>1.196619</td>\n",
              "      <td>0.262515</td>\n",
              "      <td>1.008841</td>\n",
              "      <td>4.299541</td>\n",
              "    </tr>\n",
              "  </tbody>\n",
              "</table>\n",
              "</div>"
            ],
            "text/plain": [
              "               RLG          RKP          MBE           RE           RD  \\\n",
              "count  1521.000000  1520.000000  1521.000000  1521.000000  1521.000000   \n",
              "mean      1.913494     0.298270     0.096490     0.038408     0.702786   \n",
              "std       0.972658     0.189170     0.131318     0.047146     0.188192   \n",
              "min       0.400001     0.003300     0.004307     0.006527     0.179404   \n",
              "25%       1.233140     0.153674     0.028577     0.006527     0.588068   \n",
              "50%       1.702021     0.258154     0.060557     0.019439     0.741949   \n",
              "75%       2.313138     0.412084     0.107943     0.049928     0.846359   \n",
              "max       4.528551     0.962572     1.196619     0.262515     1.008841   \n",
              "\n",
              "               RDA  \n",
              "count  1521.000000  \n",
              "mean      1.271792  \n",
              "std       0.676649  \n",
              "min       0.739949  \n",
              "25%       0.739949  \n",
              "50%       1.039180  \n",
              "75%       1.520506  \n",
              "max       4.299541  "
            ]
          },
          "execution_count": 497,
          "metadata": {},
          "output_type": "execute_result"
        }
      ],
      "source": [
        "descriptive_stats_win = jr[variables].describe()\n",
        "\n",
        "descriptive_stats_win"
      ]
    },
    {
      "cell_type": "markdown",
      "metadata": {},
      "source": [
        "##### $\\textbf{Discrétisation}$"
      ]
    },
    {
      "cell_type": "code",
      "execution_count": 498,
      "metadata": {},
      "outputs": [],
      "source": [
        "bins = [-np.inf, 0.0194, np.inf]\n",
        "#La classe 0 contient les individus dont le RE est 1.94% et la classe 1 contient les individus dont le RE est >1.94%\n",
        "labels = [0,1]\n",
        "jr['RE_discret'] = pd.cut(jr['RE'], bins = bins, labels=labels)\n"
      ]
    },
    {
      "cell_type": "code",
      "execution_count": 499,
      "metadata": {},
      "outputs": [],
      "source": [
        "bins = [-np.inf,0.2580506576081591,np.inf]\n",
        "#la classe 0 contient les individus dont le RKP est <25.8% et la classe 1 contient les individus dont le RKP est >25.8%\n",
        "labels = [0,1]\n",
        "jr['RKP_discret'] = pd.cut(jr['RKP'], bins=bins, labels=labels)"
      ]
    },
    {
      "cell_type": "code",
      "execution_count": 500,
      "metadata": {},
      "outputs": [],
      "source": [
        "bins = [-np.inf, 1.18, np.inf]\n",
        "#la classe 0 contient les individus dont le RDA est <1.18% et la classe 1 contient les individus dont le RDA est >1.18%\n",
        "labels = [0,1]\n",
        "jr['RDA_discret'] = pd.cut(jr['RDA'], bins=bins, labels=labels)"
      ]
    },
    {
      "cell_type": "code",
      "execution_count": 501,
      "metadata": {},
      "outputs": [],
      "source": [
        "bins = [-np.inf,0.7419493423918408,np.inf]\n",
        "#la classe 0 contient les individus dont le RD est <74% et la classe 1 contient les individus dont le RD est >74%\n",
        "labels = [0,1]\n",
        "jr['RD_discret'] = pd.cut(jr['RD'], bins=bins, labels=labels)"
      ]
    },
    {
      "cell_type": "code",
      "execution_count": 502,
      "metadata": {},
      "outputs": [],
      "source": [
        "bins = [-np.inf,1.2331399223366957,np.inf]\n",
        "#la classe 0 contient les individus dont le RLG est <1.23% et la classe 1 contient les individus dont le RLG est >1.23%\n",
        "labels = [0,1]\n",
        "jr['RLG_discret'] = pd.cut(jr['RLG'], bins = bins, labels=labels)\n"
      ]
    },
    {
      "cell_type": "code",
      "execution_count": 503,
      "metadata": {},
      "outputs": [],
      "source": [
        "bins = [-np.inf, 0.03945787855393465, np.inf]\n",
        "#la classe 0 contient les individus dont le MBE est <4% et la classe 1 contient les individus dont le MBE est >4%\n",
        "labels = [0,1]\n",
        "jr['MBE_discret'] = pd.cut(jr['MBE'], bins = bins, labels=labels)\n"
      ]
    },
    {
      "cell_type": "markdown",
      "metadata": {},
      "source": [
        "##### $\\textbf{Inputation}$"
      ]
    },
    {
      "cell_type": "code",
      "execution_count": 504,
      "metadata": {},
      "outputs": [],
      "source": [
        "jr['RKP_discret'].fillna(0, inplace=True)\n",
        "jr['RD_discret'].fillna(0, inplace=True)"
      ]
    },
    {
      "cell_type": "code",
      "execution_count": 505,
      "metadata": {},
      "outputs": [
        {
          "data": {
            "text/html": [
              "<div>\n",
              "<style scoped>\n",
              "    .dataframe tbody tr th:only-of-type {\n",
              "        vertical-align: middle;\n",
              "    }\n",
              "\n",
              "    .dataframe tbody tr th {\n",
              "        vertical-align: top;\n",
              "    }\n",
              "\n",
              "    .dataframe thead th {\n",
              "        text-align: right;\n",
              "    }\n",
              "</style>\n",
              "<table border=\"1\" class=\"dataframe\">\n",
              "  <thead>\n",
              "    <tr style=\"text-align: right;\">\n",
              "      <th></th>\n",
              "      <th>MBE_discret</th>\n",
              "      <th>WOE</th>\n",
              "    </tr>\n",
              "  </thead>\n",
              "  <tbody>\n",
              "    <tr>\n",
              "      <th>1</th>\n",
              "      <td>1</td>\n",
              "      <td>-0.316222</td>\n",
              "    </tr>\n",
              "    <tr>\n",
              "      <th>0</th>\n",
              "      <td>0</td>\n",
              "      <td>0.443415</td>\n",
              "    </tr>\n",
              "  </tbody>\n",
              "</table>\n",
              "</div>"
            ],
            "text/plain": [
              "   MBE_discret       WOE\n",
              "1            1 -0.316222\n",
              "0            0  0.443415"
            ]
          },
          "execution_count": 505,
          "metadata": {},
          "output_type": "execute_result"
        }
      ],
      "source": [
        "woe_MBE = calculate_woe(jr, 'MBE_discret', 'defaut')\n",
        "woe_df = pd.DataFrame(list(woe_MBE.items()), columns=['MBE_discret', 'WOE'])\n",
        "sorted_woe_df = woe_df.sort_values(by='WOE',ascending=True)\n",
        "\n",
        "sorted_woe_df"
      ]
    },
    {
      "cell_type": "markdown",
      "metadata": {},
      "source": [
        "##### $\\textbf{Rentabilité économique}$\n",
        "\n"
      ]
    },
    {
      "cell_type": "code",
      "execution_count": 506,
      "metadata": {},
      "outputs": [
        {
          "data": {
            "text/html": [
              "<div>\n",
              "<style scoped>\n",
              "    .dataframe tbody tr th:only-of-type {\n",
              "        vertical-align: middle;\n",
              "    }\n",
              "\n",
              "    .dataframe tbody tr th {\n",
              "        vertical-align: top;\n",
              "    }\n",
              "\n",
              "    .dataframe thead th {\n",
              "        text-align: right;\n",
              "    }\n",
              "</style>\n",
              "<table border=\"1\" class=\"dataframe\">\n",
              "  <thead>\n",
              "    <tr style=\"text-align: right;\">\n",
              "      <th></th>\n",
              "      <th>count</th>\n",
              "    </tr>\n",
              "    <tr>\n",
              "      <th>RE_discret</th>\n",
              "      <th></th>\n",
              "    </tr>\n",
              "  </thead>\n",
              "  <tbody>\n",
              "    <tr>\n",
              "      <th>0</th>\n",
              "      <td>759</td>\n",
              "    </tr>\n",
              "    <tr>\n",
              "      <th>1</th>\n",
              "      <td>762</td>\n",
              "    </tr>\n",
              "  </tbody>\n",
              "</table>\n",
              "</div>"
            ],
            "text/plain": [
              "            count\n",
              "RE_discret       \n",
              "0             759\n",
              "1             762"
            ]
          },
          "execution_count": 506,
          "metadata": {},
          "output_type": "execute_result"
        }
      ],
      "source": [
        "# Compter le nombre d'observations dans chaque classe\n",
        "nombre_observations = jr['RE_discret'].value_counts().sort_index()\n",
        "\n",
        "pd.DataFrame(nombre_observations)"
      ]
    },
    {
      "cell_type": "code",
      "execution_count": 507,
      "metadata": {},
      "outputs": [
        {
          "data": {
            "text/html": [
              "<div>\n",
              "<style scoped>\n",
              "    .dataframe tbody tr th:only-of-type {\n",
              "        vertical-align: middle;\n",
              "    }\n",
              "\n",
              "    .dataframe tbody tr th {\n",
              "        vertical-align: top;\n",
              "    }\n",
              "\n",
              "    .dataframe thead th {\n",
              "        text-align: right;\n",
              "    }\n",
              "</style>\n",
              "<table border=\"1\" class=\"dataframe\">\n",
              "  <thead>\n",
              "    <tr style=\"text-align: right;\">\n",
              "      <th></th>\n",
              "      <th>RE_discret</th>\n",
              "      <th>WOE</th>\n",
              "    </tr>\n",
              "  </thead>\n",
              "  <tbody>\n",
              "    <tr>\n",
              "      <th>1</th>\n",
              "      <td>1</td>\n",
              "      <td>-0.586651</td>\n",
              "    </tr>\n",
              "    <tr>\n",
              "      <th>0</th>\n",
              "      <td>0</td>\n",
              "      <td>0.378311</td>\n",
              "    </tr>\n",
              "  </tbody>\n",
              "</table>\n",
              "</div>"
            ],
            "text/plain": [
              "   RE_discret       WOE\n",
              "1           1 -0.586651\n",
              "0           0  0.378311"
            ]
          },
          "execution_count": 507,
          "metadata": {},
          "output_type": "execute_result"
        }
      ],
      "source": [
        "woe_RE = calculate_woe(jr, 'RE_discret', 'defaut')\n",
        "woe_df = pd.DataFrame(list(woe_RE.items()), columns=['RE_discret', 'WOE'])\n",
        "sorted_woe_df = woe_df.sort_values(by='WOE',ascending=True)\n",
        "\n",
        "sorted_woe_df"
      ]
    },
    {
      "cell_type": "markdown",
      "metadata": {},
      "source": [
        "Les resultats paraissent rassurant puisque la classe 3 correspond à RE > 2% donc dans cette classe il n'y a pas trop de défaut alors que dans la classe 0 il y a plus de risque d'être en défaut."
      ]
    },
    {
      "cell_type": "markdown",
      "metadata": {},
      "source": [
        "##### $\\textbf{Rentabilité des Capitaux Propres}$\n"
      ]
    },
    {
      "cell_type": "code",
      "execution_count": 508,
      "metadata": {},
      "outputs": [
        {
          "data": {
            "text/html": [
              "<div>\n",
              "<style scoped>\n",
              "    .dataframe tbody tr th:only-of-type {\n",
              "        vertical-align: middle;\n",
              "    }\n",
              "\n",
              "    .dataframe tbody tr th {\n",
              "        vertical-align: top;\n",
              "    }\n",
              "\n",
              "    .dataframe thead th {\n",
              "        text-align: right;\n",
              "    }\n",
              "</style>\n",
              "<table border=\"1\" class=\"dataframe\">\n",
              "  <thead>\n",
              "    <tr style=\"text-align: right;\">\n",
              "      <th></th>\n",
              "      <th>count</th>\n",
              "    </tr>\n",
              "    <tr>\n",
              "      <th>RKP_discret</th>\n",
              "      <th></th>\n",
              "    </tr>\n",
              "  </thead>\n",
              "  <tbody>\n",
              "    <tr>\n",
              "      <th>0</th>\n",
              "      <td>761</td>\n",
              "    </tr>\n",
              "    <tr>\n",
              "      <th>1</th>\n",
              "      <td>760</td>\n",
              "    </tr>\n",
              "  </tbody>\n",
              "</table>\n",
              "</div>"
            ],
            "text/plain": [
              "             count\n",
              "RKP_discret       \n",
              "0              761\n",
              "1              760"
            ]
          },
          "execution_count": 508,
          "metadata": {},
          "output_type": "execute_result"
        }
      ],
      "source": [
        "nombre_observations_RKP = jr['RKP_discret'].value_counts().sort_index()\n",
        "\n",
        "pd.DataFrame(nombre_observations_RKP)"
      ]
    },
    {
      "cell_type": "code",
      "execution_count": 509,
      "metadata": {},
      "outputs": [
        {
          "data": {
            "text/html": [
              "<div>\n",
              "<style scoped>\n",
              "    .dataframe tbody tr th:only-of-type {\n",
              "        vertical-align: middle;\n",
              "    }\n",
              "\n",
              "    .dataframe tbody tr th {\n",
              "        vertical-align: top;\n",
              "    }\n",
              "\n",
              "    .dataframe thead th {\n",
              "        text-align: right;\n",
              "    }\n",
              "</style>\n",
              "<table border=\"1\" class=\"dataframe\">\n",
              "  <thead>\n",
              "    <tr style=\"text-align: right;\">\n",
              "      <th></th>\n",
              "      <th>RKP_discret</th>\n",
              "      <th>WOE</th>\n",
              "    </tr>\n",
              "  </thead>\n",
              "  <tbody>\n",
              "    <tr>\n",
              "      <th>0</th>\n",
              "      <td>1</td>\n",
              "      <td>-0.342197</td>\n",
              "    </tr>\n",
              "    <tr>\n",
              "      <th>1</th>\n",
              "      <td>0</td>\n",
              "      <td>0.258798</td>\n",
              "    </tr>\n",
              "  </tbody>\n",
              "</table>\n",
              "</div>"
            ],
            "text/plain": [
              "   RKP_discret       WOE\n",
              "0            1 -0.342197\n",
              "1            0  0.258798"
            ]
          },
          "execution_count": 509,
          "metadata": {},
          "output_type": "execute_result"
        }
      ],
      "source": [
        "woe_RKP = calculate_woe(jr,'RKP_discret', 'defaut')\n",
        "woe_df_RKP = pd.DataFrame(list(woe_RKP.items()), columns=['RKP_discret', 'WOE'])\n",
        "sorted_woe_df_RKP = woe_df_RKP.sort_values(by='WOE',ascending=True)\n",
        "\n",
        "sorted_woe_df_RKP"
      ]
    },
    {
      "cell_type": "markdown",
      "metadata": {},
      "source": [
        "##### $\\textbf{Rotation des actifs}$"
      ]
    },
    {
      "cell_type": "code",
      "execution_count": 510,
      "metadata": {},
      "outputs": [
        {
          "data": {
            "text/html": [
              "<div>\n",
              "<style scoped>\n",
              "    .dataframe tbody tr th:only-of-type {\n",
              "        vertical-align: middle;\n",
              "    }\n",
              "\n",
              "    .dataframe tbody tr th {\n",
              "        vertical-align: top;\n",
              "    }\n",
              "\n",
              "    .dataframe thead th {\n",
              "        text-align: right;\n",
              "    }\n",
              "</style>\n",
              "<table border=\"1\" class=\"dataframe\">\n",
              "  <thead>\n",
              "    <tr style=\"text-align: right;\">\n",
              "      <th></th>\n",
              "      <th>RDA_discret</th>\n",
              "      <th>WOE</th>\n",
              "    </tr>\n",
              "  </thead>\n",
              "  <tbody>\n",
              "    <tr>\n",
              "      <th>1</th>\n",
              "      <td>1</td>\n",
              "      <td>-0.503927</td>\n",
              "    </tr>\n",
              "    <tr>\n",
              "      <th>0</th>\n",
              "      <td>0</td>\n",
              "      <td>0.239454</td>\n",
              "    </tr>\n",
              "  </tbody>\n",
              "</table>\n",
              "</div>"
            ],
            "text/plain": [
              "   RDA_discret       WOE\n",
              "1            1 -0.503927\n",
              "0            0  0.239454"
            ]
          },
          "execution_count": 510,
          "metadata": {},
          "output_type": "execute_result"
        }
      ],
      "source": [
        "woe_RDA = calculate_woe(jr,'RDA_discret', 'defaut')\n",
        "woe_df_RDA = pd.DataFrame(list(woe_RDA.items()), columns=['RDA_discret', 'WOE'])\n",
        "sorted_woe_df_RDA = woe_df_RDA.sort_values(by='WOE',ascending=True)\n",
        "\n",
        "sorted_woe_df_RDA"
      ]
    },
    {
      "cell_type": "markdown",
      "metadata": {},
      "source": [
        "##### $\\textbf{Ratio d'endettement}$"
      ]
    },
    {
      "cell_type": "code",
      "execution_count": 511,
      "metadata": {},
      "outputs": [
        {
          "data": {
            "text/html": [
              "<div>\n",
              "<style scoped>\n",
              "    .dataframe tbody tr th:only-of-type {\n",
              "        vertical-align: middle;\n",
              "    }\n",
              "\n",
              "    .dataframe tbody tr th {\n",
              "        vertical-align: top;\n",
              "    }\n",
              "\n",
              "    .dataframe thead th {\n",
              "        text-align: right;\n",
              "    }\n",
              "</style>\n",
              "<table border=\"1\" class=\"dataframe\">\n",
              "  <thead>\n",
              "    <tr style=\"text-align: right;\">\n",
              "      <th></th>\n",
              "      <th>count</th>\n",
              "    </tr>\n",
              "    <tr>\n",
              "      <th>RD_discret</th>\n",
              "      <th></th>\n",
              "    </tr>\n",
              "  </thead>\n",
              "  <tbody>\n",
              "    <tr>\n",
              "      <th>0</th>\n",
              "      <td>761</td>\n",
              "    </tr>\n",
              "    <tr>\n",
              "      <th>1</th>\n",
              "      <td>760</td>\n",
              "    </tr>\n",
              "  </tbody>\n",
              "</table>\n",
              "</div>"
            ],
            "text/plain": [
              "            count\n",
              "RD_discret       \n",
              "0             761\n",
              "1             760"
            ]
          },
          "execution_count": 511,
          "metadata": {},
          "output_type": "execute_result"
        }
      ],
      "source": [
        "# Compter le nombre d'observations dans chaque classe\n",
        "nombre_observations_RD = jr['RD_discret'].value_counts().sort_index()\n",
        "\n",
        "pd.DataFrame(nombre_observations_RD)"
      ]
    },
    {
      "cell_type": "code",
      "execution_count": 512,
      "metadata": {},
      "outputs": [
        {
          "data": {
            "text/html": [
              "<div>\n",
              "<style scoped>\n",
              "    .dataframe tbody tr th:only-of-type {\n",
              "        vertical-align: middle;\n",
              "    }\n",
              "\n",
              "    .dataframe tbody tr th {\n",
              "        vertical-align: top;\n",
              "    }\n",
              "\n",
              "    .dataframe thead th {\n",
              "        text-align: right;\n",
              "    }\n",
              "</style>\n",
              "<table border=\"1\" class=\"dataframe\">\n",
              "  <thead>\n",
              "    <tr style=\"text-align: right;\">\n",
              "      <th></th>\n",
              "      <th>RD_discret</th>\n",
              "      <th>WOE</th>\n",
              "    </tr>\n",
              "  </thead>\n",
              "  <tbody>\n",
              "    <tr>\n",
              "      <th>0</th>\n",
              "      <td>0</td>\n",
              "      <td>-0.343546</td>\n",
              "    </tr>\n",
              "    <tr>\n",
              "      <th>1</th>\n",
              "      <td>1</td>\n",
              "      <td>0.260175</td>\n",
              "    </tr>\n",
              "  </tbody>\n",
              "</table>\n",
              "</div>"
            ],
            "text/plain": [
              "   RD_discret       WOE\n",
              "0           0 -0.343546\n",
              "1           1  0.260175"
            ]
          },
          "execution_count": 512,
          "metadata": {},
          "output_type": "execute_result"
        }
      ],
      "source": [
        "woe_RD = calculate_woe(jr,'RD_discret', 'defaut')\n",
        "woe_df_RD = pd.DataFrame(list(woe_RD.items()), columns=['RD_discret', 'WOE'])\n",
        "sorted_woe_df_RD = woe_df_RD.sort_values(by='WOE',ascending=True)\n",
        "\n",
        "sorted_woe_df_RD"
      ]
    },
    {
      "cell_type": "markdown",
      "metadata": {},
      "source": [
        "##### $\\textbf{Ratio de Liquidité générale}$"
      ]
    },
    {
      "cell_type": "code",
      "execution_count": 513,
      "metadata": {},
      "outputs": [
        {
          "data": {
            "text/html": [
              "<div>\n",
              "<style scoped>\n",
              "    .dataframe tbody tr th:only-of-type {\n",
              "        vertical-align: middle;\n",
              "    }\n",
              "\n",
              "    .dataframe tbody tr th {\n",
              "        vertical-align: top;\n",
              "    }\n",
              "\n",
              "    .dataframe thead th {\n",
              "        text-align: right;\n",
              "    }\n",
              "</style>\n",
              "<table border=\"1\" class=\"dataframe\">\n",
              "  <thead>\n",
              "    <tr style=\"text-align: right;\">\n",
              "      <th></th>\n",
              "      <th>RLG_discret</th>\n",
              "      <th>WOE</th>\n",
              "    </tr>\n",
              "  </thead>\n",
              "  <tbody>\n",
              "    <tr>\n",
              "      <th>1</th>\n",
              "      <td>0</td>\n",
              "      <td>-0.520773</td>\n",
              "    </tr>\n",
              "    <tr>\n",
              "      <th>0</th>\n",
              "      <td>1</td>\n",
              "      <td>0.129517</td>\n",
              "    </tr>\n",
              "  </tbody>\n",
              "</table>\n",
              "</div>"
            ],
            "text/plain": [
              "   RLG_discret       WOE\n",
              "1            0 -0.520773\n",
              "0            1  0.129517"
            ]
          },
          "execution_count": 513,
          "metadata": {},
          "output_type": "execute_result"
        }
      ],
      "source": [
        "woe_RLG = calculate_woe(jr,'RLG_discret', 'defaut')\n",
        "woe_df_RLG = pd.DataFrame(list(woe_RLG.items()), columns=['RLG_discret', 'WOE'])\n",
        "sorted_woe_df_RLG = woe_df_RLG.sort_values(by='WOE',ascending=True)\n",
        "\n",
        "sorted_woe_df_RLG"
      ]
    },
    {
      "cell_type": "markdown",
      "metadata": {},
      "source": [
        "### $\\textbf{Variables catégorielles}$"
      ]
    },
    {
      "cell_type": "markdown",
      "metadata": {},
      "source": [
        "##### $\\textbf{Catégorie Juridique} $"
      ]
    },
    {
      "cell_type": "code",
      "execution_count": 514,
      "metadata": {},
      "outputs": [
        {
          "name": "stdout",
          "output_type": "stream",
          "text": [
            "['SA' 'SARL' 'Autres forme juridique']\n"
          ]
        }
      ],
      "source": [
        "print(jr['Categorie_juridique'].unique())"
      ]
    },
    {
      "cell_type": "code",
      "execution_count": 515,
      "metadata": {},
      "outputs": [
        {
          "data": {
            "text/html": [
              "<div>\n",
              "<style scoped>\n",
              "    .dataframe tbody tr th:only-of-type {\n",
              "        vertical-align: middle;\n",
              "    }\n",
              "\n",
              "    .dataframe tbody tr th {\n",
              "        vertical-align: top;\n",
              "    }\n",
              "\n",
              "    .dataframe thead th {\n",
              "        text-align: right;\n",
              "    }\n",
              "</style>\n",
              "<table border=\"1\" class=\"dataframe\">\n",
              "  <thead>\n",
              "    <tr style=\"text-align: right;\">\n",
              "      <th></th>\n",
              "      <th>Modalité</th>\n",
              "      <th>WoE</th>\n",
              "    </tr>\n",
              "  </thead>\n",
              "  <tbody>\n",
              "    <tr>\n",
              "      <th>0</th>\n",
              "      <td>SA</td>\n",
              "      <td>-0.053565</td>\n",
              "    </tr>\n",
              "    <tr>\n",
              "      <th>1</th>\n",
              "      <td>SARL</td>\n",
              "      <td>0.133554</td>\n",
              "    </tr>\n",
              "    <tr>\n",
              "      <th>2</th>\n",
              "      <td>Autres forme juridique</td>\n",
              "      <td>-3.304979</td>\n",
              "    </tr>\n",
              "  </tbody>\n",
              "</table>\n",
              "</div>"
            ],
            "text/plain": [
              "                 Modalité       WoE\n",
              "0                      SA -0.053565\n",
              "1                    SARL  0.133554\n",
              "2  Autres forme juridique -3.304979"
            ]
          },
          "execution_count": 515,
          "metadata": {},
          "output_type": "execute_result"
        }
      ],
      "source": [
        "woe_cat = calculate_woe(jr,'Categorie_juridique','defaut')\n",
        "\n",
        "pd.DataFrame(list(woe_cat.items()), columns=['Modalité', 'WoE'])"
      ]
    },
    {
      "cell_type": "markdown",
      "metadata": {},
      "source": [
        "##### $\\textbf{Positionnement marché} $\n"
      ]
    },
    {
      "cell_type": "code",
      "execution_count": 516,
      "metadata": {},
      "outputs": [
        {
          "name": "stdout",
          "output_type": "stream",
          "text": [
            "['Acteur majeur + de 20% de part de marche' 'Leader'\n",
            " 'Acteur non significatif' 'Acteur marginal']\n"
          ]
        }
      ],
      "source": [
        "print(jr['POSITIONNEMENTMARCHE'].unique())"
      ]
    },
    {
      "cell_type": "code",
      "execution_count": 517,
      "metadata": {},
      "outputs": [
        {
          "data": {
            "text/html": [
              "<div>\n",
              "<style scoped>\n",
              "    .dataframe tbody tr th:only-of-type {\n",
              "        vertical-align: middle;\n",
              "    }\n",
              "\n",
              "    .dataframe tbody tr th {\n",
              "        vertical-align: top;\n",
              "    }\n",
              "\n",
              "    .dataframe thead th {\n",
              "        text-align: right;\n",
              "    }\n",
              "</style>\n",
              "<table border=\"1\" class=\"dataframe\">\n",
              "  <thead>\n",
              "    <tr style=\"text-align: right;\">\n",
              "      <th></th>\n",
              "      <th>Modalité</th>\n",
              "      <th>WoE</th>\n",
              "    </tr>\n",
              "  </thead>\n",
              "  <tbody>\n",
              "    <tr>\n",
              "      <th>0</th>\n",
              "      <td>Acteur majeur + de 20% de part de marche</td>\n",
              "      <td>0.030685</td>\n",
              "    </tr>\n",
              "    <tr>\n",
              "      <th>1</th>\n",
              "      <td>Leader</td>\n",
              "      <td>-0.029888</td>\n",
              "    </tr>\n",
              "    <tr>\n",
              "      <th>2</th>\n",
              "      <td>Acteur non significatif</td>\n",
              "      <td>-0.384044</td>\n",
              "    </tr>\n",
              "    <tr>\n",
              "      <th>3</th>\n",
              "      <td>Acteur marginal</td>\n",
              "      <td>1.241923</td>\n",
              "    </tr>\n",
              "  </tbody>\n",
              "</table>\n",
              "</div>"
            ],
            "text/plain": [
              "                                   Modalité       WoE\n",
              "0  Acteur majeur + de 20% de part de marche  0.030685\n",
              "1                                    Leader -0.029888\n",
              "2                   Acteur non significatif -0.384044\n",
              "3                           Acteur marginal  1.241923"
            ]
          },
          "execution_count": 517,
          "metadata": {},
          "output_type": "execute_result"
        }
      ],
      "source": [
        "woe_pos_marche = calculate_woe(jr,'POSITIONNEMENTMARCHE','defaut')\n",
        "\n",
        "pd.DataFrame(list(woe_pos_marche.items()),columns=['Modalité', 'WoE'])"
      ]
    },
    {
      "cell_type": "markdown",
      "metadata": {},
      "source": [
        "##### $\\textbf{Secteurs}$"
      ]
    },
    {
      "cell_type": "code",
      "execution_count": 518,
      "metadata": {},
      "outputs": [
        {
          "name": "stdout",
          "output_type": "stream",
          "text": [
            "['Transport et Communication' 'Industries agroalimentaires et du tabac'\n",
            " \"Commerce, reparations automobiles et d'articles domestiques\"\n",
            " 'Promotion Immobilière' 'Hôtels et restaurants' 'Autres sections'\n",
            " 'Administrations publiques'\n",
            " \"Production et distribution d'electricite, de gaz et d'eau\"\n",
            " 'Activites financières' 'Pêche, Aquaculture'\n",
            " 'Industries metallurgiques, mecaniques, electriques et electroniques'\n",
            " 'Bâtiments et travaux publics'\n",
            " \"Industries du textile, de l'habillement et des cuirs\"\n",
            " 'Industries chimiques et parachimiques' 'Industries extractives'\n",
            " 'Industries manufacturières diverses'\n",
            " 'Agriculture, chasse et sylviculture']\n"
          ]
        }
      ],
      "source": [
        "print(jr['Secteurs'].unique())"
      ]
    },
    {
      "cell_type": "code",
      "execution_count": 519,
      "metadata": {},
      "outputs": [
        {
          "data": {
            "text/html": [
              "<div>\n",
              "<style scoped>\n",
              "    .dataframe tbody tr th:only-of-type {\n",
              "        vertical-align: middle;\n",
              "    }\n",
              "\n",
              "    .dataframe tbody tr th {\n",
              "        vertical-align: top;\n",
              "    }\n",
              "\n",
              "    .dataframe thead th {\n",
              "        text-align: right;\n",
              "    }\n",
              "</style>\n",
              "<table border=\"1\" class=\"dataframe\">\n",
              "  <thead>\n",
              "    <tr style=\"text-align: right;\">\n",
              "      <th></th>\n",
              "      <th>Modalité</th>\n",
              "      <th>WoE</th>\n",
              "    </tr>\n",
              "  </thead>\n",
              "  <tbody>\n",
              "    <tr>\n",
              "      <th>0</th>\n",
              "      <td>Transport et Communication</td>\n",
              "      <td>-6.013029</td>\n",
              "    </tr>\n",
              "    <tr>\n",
              "      <th>1</th>\n",
              "      <td>Industries agroalimentaires et du tabac</td>\n",
              "      <td>-0.811132</td>\n",
              "    </tr>\n",
              "    <tr>\n",
              "      <th>2</th>\n",
              "      <td>Commerce, reparations automobiles et d'article...</td>\n",
              "      <td>-0.791557</td>\n",
              "    </tr>\n",
              "    <tr>\n",
              "      <th>3</th>\n",
              "      <td>Promotion Immobilière</td>\n",
              "      <td>1.375454</td>\n",
              "    </tr>\n",
              "    <tr>\n",
              "      <th>4</th>\n",
              "      <td>Hôtels et restaurants</td>\n",
              "      <td>-5.502203</td>\n",
              "    </tr>\n",
              "    <tr>\n",
              "      <th>5</th>\n",
              "      <td>Autres sections</td>\n",
              "      <td>0.722798</td>\n",
              "    </tr>\n",
              "    <tr>\n",
              "      <th>6</th>\n",
              "      <td>Administrations publiques</td>\n",
              "      <td>-1.918684</td>\n",
              "    </tr>\n",
              "    <tr>\n",
              "      <th>7</th>\n",
              "      <td>Production et distribution d'electricite, de g...</td>\n",
              "      <td>0.230322</td>\n",
              "    </tr>\n",
              "    <tr>\n",
              "      <th>8</th>\n",
              "      <td>Activites financières</td>\n",
              "      <td>0.376925</td>\n",
              "    </tr>\n",
              "    <tr>\n",
              "      <th>9</th>\n",
              "      <td>Pêche, Aquaculture</td>\n",
              "      <td>-3.528122</td>\n",
              "    </tr>\n",
              "    <tr>\n",
              "      <th>10</th>\n",
              "      <td>Industries metallurgiques, mecaniques, electri...</td>\n",
              "      <td>0.700325</td>\n",
              "    </tr>\n",
              "    <tr>\n",
              "      <th>11</th>\n",
              "      <td>Bâtiments et travaux publics</td>\n",
              "      <td>0.536353</td>\n",
              "    </tr>\n",
              "    <tr>\n",
              "      <th>12</th>\n",
              "      <td>Industries du textile, de l'habillement et des...</td>\n",
              "      <td>0.350950</td>\n",
              "    </tr>\n",
              "    <tr>\n",
              "      <th>13</th>\n",
              "      <td>Industries chimiques et parachimiques</td>\n",
              "      <td>-0.316222</td>\n",
              "    </tr>\n",
              "    <tr>\n",
              "      <th>14</th>\n",
              "      <td>Industries extractives</td>\n",
              "      <td>-4.557741</td>\n",
              "    </tr>\n",
              "    <tr>\n",
              "      <th>15</th>\n",
              "      <td>Industries manufacturières diverses</td>\n",
              "      <td>-0.528783</td>\n",
              "    </tr>\n",
              "    <tr>\n",
              "      <th>16</th>\n",
              "      <td>Agriculture, chasse et sylviculture</td>\n",
              "      <td>-4.115909</td>\n",
              "    </tr>\n",
              "  </tbody>\n",
              "</table>\n",
              "</div>"
            ],
            "text/plain": [
              "                                             Modalité       WoE\n",
              "0                          Transport et Communication -6.013029\n",
              "1             Industries agroalimentaires et du tabac -0.811132\n",
              "2   Commerce, reparations automobiles et d'article... -0.791557\n",
              "3                               Promotion Immobilière  1.375454\n",
              "4                               Hôtels et restaurants -5.502203\n",
              "5                                     Autres sections  0.722798\n",
              "6                           Administrations publiques -1.918684\n",
              "7   Production et distribution d'electricite, de g...  0.230322\n",
              "8                               Activites financières  0.376925\n",
              "9                                  Pêche, Aquaculture -3.528122\n",
              "10  Industries metallurgiques, mecaniques, electri...  0.700325\n",
              "11                       Bâtiments et travaux publics  0.536353\n",
              "12  Industries du textile, de l'habillement et des...  0.350950\n",
              "13              Industries chimiques et parachimiques -0.316222\n",
              "14                             Industries extractives -4.557741\n",
              "15                Industries manufacturières diverses -0.528783\n",
              "16                Agriculture, chasse et sylviculture -4.115909"
            ]
          },
          "execution_count": 519,
          "metadata": {},
          "output_type": "execute_result"
        }
      ],
      "source": [
        "woe_sec = calculate_woe(jr, 'Secteurs', 'defaut')\n",
        "\n",
        "pd.DataFrame(list(woe_sec.items()), columns=['Modalité', 'WoE'])"
      ]
    },
    {
      "cell_type": "code",
      "execution_count": 520,
      "metadata": {},
      "outputs": [],
      "source": [
        "# Créer un dictionnaire pour mapper les noms des secteurs aux nouvelles classes\n",
        "secteur_mapping = {\n",
        "    'Transport et Communication': 'Service',\n",
        "    'Agriculture, chasse et sylviculture': 'Service',\n",
        "    'Hôtels et restaurants': 'Service',\n",
        "    'Administrations publiques': 'Service',\n",
        "    'Industries extractives': 'Service',\n",
        "    'Pêche, Aquaculture' : 'Service',\n",
        "    'Industries agroalimentaires et du tabac': 'Industrie',\n",
        "    'Commerce, reparations automobiles et d\\'articles domestiques': 'Industrie',\n",
        "    'Industries chimiques et parachimiques': 'Industrie',\n",
        "    'Industries manufacturières diverses': 'Industrie',\n",
        "    'Bâtiments et travaux publics' : 'Industrie',\n",
        "    'Industries du textile, de l\\'habillement et des cuirs' : 'Industrie',\n",
        "    'Promotion Immobilière': 'Infrastructure et Finance',\n",
        "    'Autres sections': 'Infrastructure et Finance',\n",
        "    'Production et distribution d\\'electricite, de gaz et d\\'eau': 'Infrastructure et Finance',\n",
        "    'Activites financières': 'Infrastructure et Finance',\n",
        "    'Industries metallurgiques, mecaniques, electriques et electroniques': 'Infrastructure et Finance'\n",
        "}\n",
        "\n",
        "# Appliquer le mappage pour créer une nouvelle colonne de classe de secteur\n",
        "jr['Secteur_Classe'] = jr['Secteurs'].map(secteur_mapping)\n"
      ]
    },
    {
      "cell_type": "code",
      "execution_count": 521,
      "metadata": {},
      "outputs": [
        {
          "data": {
            "text/plain": [
              "Secteur_Classe\n",
              "Industrie                    1026\n",
              "Infrastructure et Finance     370\n",
              "Service                       125\n",
              "Name: count, dtype: int64"
            ]
          },
          "execution_count": 521,
          "metadata": {},
          "output_type": "execute_result"
        }
      ],
      "source": [
        "jr['Secteur_Classe'].value_counts()"
      ]
    },
    {
      "cell_type": "markdown",
      "metadata": {},
      "source": [
        "### $\\textbf{Information Value} $"
      ]
    },
    {
      "cell_type": "code",
      "execution_count": 522,
      "metadata": {},
      "outputs": [],
      "source": [
        "def calculate_iv(df, target):\n",
        "    def calculate_woe_iv(feature_data, target_data):\n",
        "        total_events = sum(target_data)\n",
        "        total_non_events = len(target_data) - total_events\n",
        "        woe_iv = 0\n",
        "        for value in feature_data.unique():\n",
        "            event_count = sum(target_data[feature_data == value])\n",
        "            non_event_count = len(feature_data[feature_data == value]) - event_count\n",
        "            if event_count == 0 or non_event_count == 0:\n",
        "                continue\n",
        "            proportion_of_events = event_count / total_events\n",
        "            proportion_of_non_events = non_event_count / total_non_events\n",
        "            woe = np.log(proportion_of_events / proportion_of_non_events)\n",
        "            iv = (proportion_of_events - proportion_of_non_events) * woe\n",
        "            woe_iv += iv\n",
        "        return woe_iv\n",
        "    \n",
        "    iv_values = {}\n",
        "    for feature in df.columns:\n",
        "        if feature != target:\n",
        "            feature_data = df[feature]\n",
        "            target_data = df[target]\n",
        "            if feature_data.dtype == 'object':\n",
        "                feature_data = feature_data.astype('category').cat.codes\n",
        "            iv_values[feature] = calculate_woe_iv(feature_data, target_data)\n",
        "    \n",
        "    return iv_values\n"
      ]
    },
    {
      "cell_type": "code",
      "execution_count": 523,
      "metadata": {},
      "outputs": [
        {
          "data": {
            "text/html": [
              "<div>\n",
              "<style scoped>\n",
              "    .dataframe tbody tr th:only-of-type {\n",
              "        vertical-align: middle;\n",
              "    }\n",
              "\n",
              "    .dataframe tbody tr th {\n",
              "        vertical-align: top;\n",
              "    }\n",
              "\n",
              "    .dataframe thead th {\n",
              "        text-align: right;\n",
              "    }\n",
              "</style>\n",
              "<table border=\"1\" class=\"dataframe\">\n",
              "  <thead>\n",
              "    <tr style=\"text-align: right;\">\n",
              "      <th></th>\n",
              "      <th>Variables</th>\n",
              "      <th>IV</th>\n",
              "    </tr>\n",
              "  </thead>\n",
              "  <tbody>\n",
              "    <tr>\n",
              "      <th>0</th>\n",
              "      <td>numtiers</td>\n",
              "      <td>2.098653</td>\n",
              "    </tr>\n",
              "    <tr>\n",
              "      <th>1</th>\n",
              "      <td>Annee</td>\n",
              "      <td>0.446114</td>\n",
              "    </tr>\n",
              "    <tr>\n",
              "      <th>12</th>\n",
              "      <td>DETTE_FINANCIERE</td>\n",
              "      <td>0.106819</td>\n",
              "    </tr>\n",
              "    <tr>\n",
              "      <th>17</th>\n",
              "      <td>DELAI_REGLEMENT_CLIENTS</td>\n",
              "      <td>0.120809</td>\n",
              "    </tr>\n",
              "    <tr>\n",
              "      <th>25</th>\n",
              "      <td>IMPACT_SOCIAUX_ENVIRONNEMENTAL</td>\n",
              "      <td>0.133300</td>\n",
              "    </tr>\n",
              "    <tr>\n",
              "      <th>26</th>\n",
              "      <td>NIVEAU_COMPETITIVITE</td>\n",
              "      <td>0.120420</td>\n",
              "    </tr>\n",
              "    <tr>\n",
              "      <th>35</th>\n",
              "      <td>Secteurs</td>\n",
              "      <td>0.515095</td>\n",
              "    </tr>\n",
              "    <tr>\n",
              "      <th>43</th>\n",
              "      <td>RDA</td>\n",
              "      <td>0.109555</td>\n",
              "    </tr>\n",
              "    <tr>\n",
              "      <th>44</th>\n",
              "      <td>RE_discret</td>\n",
              "      <td>0.217924</td>\n",
              "    </tr>\n",
              "    <tr>\n",
              "      <th>46</th>\n",
              "      <td>RDA_discret</td>\n",
              "      <td>0.119470</td>\n",
              "    </tr>\n",
              "    <tr>\n",
              "      <th>49</th>\n",
              "      <td>MBE_discret</td>\n",
              "      <td>0.138602</td>\n",
              "    </tr>\n",
              "    <tr>\n",
              "      <th>50</th>\n",
              "      <td>Secteur_Classe</td>\n",
              "      <td>0.277548</td>\n",
              "    </tr>\n",
              "  </tbody>\n",
              "</table>\n",
              "</div>"
            ],
            "text/plain": [
              "                         Variables        IV\n",
              "0                         numtiers  2.098653\n",
              "1                            Annee  0.446114\n",
              "12                DETTE_FINANCIERE  0.106819\n",
              "17         DELAI_REGLEMENT_CLIENTS  0.120809\n",
              "25  IMPACT_SOCIAUX_ENVIRONNEMENTAL  0.133300\n",
              "26            NIVEAU_COMPETITIVITE  0.120420\n",
              "35                        Secteurs  0.515095\n",
              "43                             RDA  0.109555\n",
              "44                      RE_discret  0.217924\n",
              "46                     RDA_discret  0.119470\n",
              "49                     MBE_discret  0.138602\n",
              "50                  Secteur_Classe  0.277548"
            ]
          },
          "execution_count": 523,
          "metadata": {},
          "output_type": "execute_result"
        }
      ],
      "source": [
        "iv_values = calculate_iv(jr, 'defaut')\n",
        "iv_df = pd.DataFrame(list(iv_values.items()), columns=['Variables', 'IV'])\n",
        "filtered_iv_df = iv_df[iv_df['IV'] >= 0.1]\n",
        "\n",
        "\n",
        "filtered_iv_df"
      ]
    },
    {
      "cell_type": "markdown",
      "metadata": {},
      "source": [
        "Les variables $\\textbf{RD \\_ discret, MBE \\_ discret, RE\\_ discret,RDA \\_ discret, Secteur \\_ Classe}$ semblent avoir un pouvoir prédictif puissant alors les autres variables paraissent avoir un pouvoir prédictif moyen."
      ]
    },
    {
      "cell_type": "markdown",
      "metadata": {},
      "source": [
        "### $\\textbf{V-cramer} $\n",
        "\n",
        "Le V-cramer est utilisé pour comprendre la force de la relation entre deux variables qualitative. Dejà la variable defaut peut être considéré comme qualitative avec deux modalité. \n",
        "\n",
        "$$V = \\sqrt{ \\frac{\\phi^2}{min(k-1,r-1)} }$$\n",
        "\n",
        "où :\n",
        "\n",
        "$$\\phi^2 = \\frac{\\chi^2}{n} $$\n",
        "\n",
        "r et k sont le nombre de ligne et de colonne de la matrice de confusion.\n",
        "\n",
        "Pour corriger un certain biais dans la formule, on corrige r et k par :\n",
        "$$r_{corr} = r - \\frac{(r-1)^2}{n-1} ~~~~~ k_{corr} = k - \\frac{(k-1)^2}{n-1} ~~~~~~ \\phi^2_{corr} = max(0, \\phi^2 - \\frac{(k-1)*(r-1)}{n-1} ) $$\n",
        "\n",
        "\n"
      ]
    },
    {
      "cell_type": "code",
      "execution_count": 524,
      "metadata": {},
      "outputs": [],
      "source": [
        "c = [var for var in jr.columns if jr[var].dtype=='O']"
      ]
    },
    {
      "cell_type": "code",
      "execution_count": 525,
      "metadata": {},
      "outputs": [],
      "source": [
        "def cramers_v(x, y):\n",
        "    confusion_matrix = pd.crosstab(x,y)\n",
        "    chi2 = stats.chi2_contingency(confusion_matrix)[0]\n",
        "    n = confusion_matrix.sum().sum()\n",
        "    phi2 = chi2/n\n",
        "    r,k = confusion_matrix.shape\n",
        "    phi2corr = max(0, phi2-((k-1)*(r-1))/(n-1))\n",
        "    rcorr = r-((r-1)**2)/(n-1)\n",
        "    kcorr = k-((k-1)**2)/(n-1)\n",
        "    return np.sqrt(phi2corr/min((kcorr-1),(rcorr-1)))\n"
      ]
    },
    {
      "cell_type": "code",
      "execution_count": 526,
      "metadata": {},
      "outputs": [
        {
          "data": {
            "text/html": [
              "<div>\n",
              "<style scoped>\n",
              "    .dataframe tbody tr th:only-of-type {\n",
              "        vertical-align: middle;\n",
              "    }\n",
              "\n",
              "    .dataframe tbody tr th {\n",
              "        vertical-align: top;\n",
              "    }\n",
              "\n",
              "    .dataframe thead th {\n",
              "        text-align: right;\n",
              "    }\n",
              "</style>\n",
              "<table border=\"1\" class=\"dataframe\">\n",
              "  <thead>\n",
              "    <tr style=\"text-align: right;\">\n",
              "      <th></th>\n",
              "      <th>Variable</th>\n",
              "      <th>V_Cramer</th>\n",
              "    </tr>\n",
              "  </thead>\n",
              "  <tbody>\n",
              "    <tr>\n",
              "      <th>1</th>\n",
              "      <td>DIVERSITE_CLIENTS</td>\n",
              "      <td>0.127560</td>\n",
              "    </tr>\n",
              "    <tr>\n",
              "      <th>11</th>\n",
              "      <td>Secteurs</td>\n",
              "      <td>0.118625</td>\n",
              "    </tr>\n",
              "    <tr>\n",
              "      <th>13</th>\n",
              "      <td>Secteur_Classe</td>\n",
              "      <td>0.118268</td>\n",
              "    </tr>\n",
              "  </tbody>\n",
              "</table>\n",
              "</div>"
            ],
            "text/plain": [
              "             Variable  V_Cramer\n",
              "1   DIVERSITE_CLIENTS  0.127560\n",
              "11           Secteurs  0.118625\n",
              "13     Secteur_Classe  0.118268"
            ]
          },
          "execution_count": 526,
          "metadata": {},
          "output_type": "execute_result"
        }
      ],
      "source": [
        "v_cramers = {var: cramers_v(jr[var], jr['defaut']) for var in c}\n",
        "v_cramers_df = pd.DataFrame(list(v_cramers.items()), columns=['Variable', 'V_Cramer'])\n",
        "filtered_v_cramers_df = v_cramers_df[v_cramers_df['V_Cramer'] >= 0.1]\n",
        "\n",
        "\n",
        "filtered_v_cramers_df"
      ]
    },
    {
      "cell_type": "markdown",
      "metadata": {},
      "source": [
        "D'après les résultats ci-dessus on peut conclure que les variables $\\textbf{ DIVERSITE \\_ CLIENTS et IMPACT \\_ SOCIAUX \\_ ENVIRONNEMENTAL }$ ont une relation moyenne avec la variable $\\textbf{defaut}$"
      ]
    },
    {
      "cell_type": "markdown",
      "metadata": {},
      "source": [
        "#### $\\textbf{Modélisation}$"
      ]
    },
    {
      "cell_type": "markdown",
      "metadata": {},
      "source": [
        "##### $\\textbf{Prérequis}$"
      ]
    },
    {
      "cell_type": "code",
      "execution_count": 527,
      "metadata": {},
      "outputs": [],
      "source": [
        "df = jr.copy()\n",
        "df = df[['defaut', 'numtiers','Annee', 'Secteur_Classe', 'RE_discret', 'RDA_discret', 'MBE_discret', 'RD_discret' , 'IMPACT_SOCIAUX_ENVIRONNEMENTAL']]"
      ]
    },
    {
      "cell_type": "code",
      "execution_count": 528,
      "metadata": {},
      "outputs": [],
      "source": [
        "dataSurvival = df.groupby('numtiers').first().reset_index()\n",
        "dataSurvival = pd.merge(dataSurvival, df, on='numtiers', how='left')\n",
        "columns_to_drop = ['Annee_x', 'defaut_x', 'Secteur_Classe_x', 'RE_discret_x', 'RDA_discret_x','RD_discret_x', 'MBE_discret_x', 'IMPACT_SOCIAUX_ENVIRONNEMENTAL_x']\n",
        "dataSurvival = dataSurvival.drop(columns=columns_to_drop)"
      ]
    },
    {
      "cell_type": "code",
      "execution_count": 529,
      "metadata": {},
      "outputs": [],
      "source": [
        "#Censure selon le nombre de defaut (est ce que l'entreprise connait un defaut dans la periode d'observation ou pas)\n",
        "dataSurvival['Censure'] = dataSurvival['defaut_y'].apply(lambda x: 1 if x == 0 else 0)"
      ]
    },
    {
      "cell_type": "code",
      "execution_count": 530,
      "metadata": {},
      "outputs": [
        {
          "data": {
            "text/html": [
              "<div>\n",
              "<style scoped>\n",
              "    .dataframe tbody tr th:only-of-type {\n",
              "        vertical-align: middle;\n",
              "    }\n",
              "\n",
              "    .dataframe tbody tr th {\n",
              "        vertical-align: top;\n",
              "    }\n",
              "\n",
              "    .dataframe thead th {\n",
              "        text-align: right;\n",
              "    }\n",
              "</style>\n",
              "<table border=\"1\" class=\"dataframe\">\n",
              "  <thead>\n",
              "    <tr style=\"text-align: right;\">\n",
              "      <th></th>\n",
              "      <th>numtiers</th>\n",
              "      <th>defaut_y</th>\n",
              "      <th>Annee_y</th>\n",
              "      <th>Secteur_Classe_y</th>\n",
              "      <th>RE_discret_y</th>\n",
              "      <th>RDA_discret_y</th>\n",
              "      <th>MBE_discret_y</th>\n",
              "      <th>RD_discret_y</th>\n",
              "      <th>IMPACT_SOCIAUX_ENVIRONNEMENTAL_y</th>\n",
              "      <th>Censure</th>\n",
              "    </tr>\n",
              "  </thead>\n",
              "  <tbody>\n",
              "    <tr>\n",
              "      <th>0</th>\n",
              "      <td>5200000007513</td>\n",
              "      <td>0</td>\n",
              "      <td>2015</td>\n",
              "      <td>Service</td>\n",
              "      <td>0</td>\n",
              "      <td>0</td>\n",
              "      <td>0</td>\n",
              "      <td>0</td>\n",
              "      <td>Impact social ou environnemental potentiel mai...</td>\n",
              "      <td>1</td>\n",
              "    </tr>\n",
              "    <tr>\n",
              "      <th>1</th>\n",
              "      <td>5200000007513</td>\n",
              "      <td>0</td>\n",
              "      <td>2016</td>\n",
              "      <td>Service</td>\n",
              "      <td>0</td>\n",
              "      <td>1</td>\n",
              "      <td>0</td>\n",
              "      <td>0</td>\n",
              "      <td>Impact social ou environnemental marginal</td>\n",
              "      <td>1</td>\n",
              "    </tr>\n",
              "    <tr>\n",
              "      <th>2</th>\n",
              "      <td>5200000007513</td>\n",
              "      <td>0</td>\n",
              "      <td>2017</td>\n",
              "      <td>Service</td>\n",
              "      <td>0</td>\n",
              "      <td>0</td>\n",
              "      <td>0</td>\n",
              "      <td>0</td>\n",
              "      <td>Impact social ou environnemental potentiel mai...</td>\n",
              "      <td>1</td>\n",
              "    </tr>\n",
              "    <tr>\n",
              "      <th>3</th>\n",
              "      <td>5200000007882</td>\n",
              "      <td>0</td>\n",
              "      <td>2017</td>\n",
              "      <td>Industrie</td>\n",
              "      <td>0</td>\n",
              "      <td>0</td>\n",
              "      <td>1</td>\n",
              "      <td>1</td>\n",
              "      <td>Impact social ou environnemental marginal</td>\n",
              "      <td>1</td>\n",
              "    </tr>\n",
              "    <tr>\n",
              "      <th>4</th>\n",
              "      <td>5200000007882</td>\n",
              "      <td>0</td>\n",
              "      <td>2019</td>\n",
              "      <td>Industrie</td>\n",
              "      <td>0</td>\n",
              "      <td>0</td>\n",
              "      <td>1</td>\n",
              "      <td>1</td>\n",
              "      <td>Impact social ou environnemental marginal</td>\n",
              "      <td>1</td>\n",
              "    </tr>\n",
              "  </tbody>\n",
              "</table>\n",
              "</div>"
            ],
            "text/plain": [
              "        numtiers  defaut_y  Annee_y Secteur_Classe_y RE_discret_y  \\\n",
              "0  5200000007513         0     2015          Service            0   \n",
              "1  5200000007513         0     2016          Service            0   \n",
              "2  5200000007513         0     2017          Service            0   \n",
              "3  5200000007882         0     2017        Industrie            0   \n",
              "4  5200000007882         0     2019        Industrie            0   \n",
              "\n",
              "  RDA_discret_y MBE_discret_y RD_discret_y  \\\n",
              "0             0             0            0   \n",
              "1             1             0            0   \n",
              "2             0             0            0   \n",
              "3             0             1            1   \n",
              "4             0             1            1   \n",
              "\n",
              "                    IMPACT_SOCIAUX_ENVIRONNEMENTAL_y  Censure  \n",
              "0  Impact social ou environnemental potentiel mai...        1  \n",
              "1          Impact social ou environnemental marginal        1  \n",
              "2  Impact social ou environnemental potentiel mai...        1  \n",
              "3          Impact social ou environnemental marginal        1  \n",
              "4          Impact social ou environnemental marginal        1  "
            ]
          },
          "execution_count": 530,
          "metadata": {},
          "output_type": "execute_result"
        }
      ],
      "source": [
        "dataSurvival.head()"
      ]
    },
    {
      "cell_type": "markdown",
      "metadata": {},
      "source": [
        "##### $\\textbf{Vif du sujet}$"
      ]
    },
    {
      "cell_type": "code",
      "execution_count": 531,
      "metadata": {},
      "outputs": [],
      "source": [
        "# Divisez vos données en train_set (80%) et test_set (20%)\n",
        "train_set, test_set = train_test_split(dataSurvival, test_size=0.2, random_state=2200014)"
      ]
    },
    {
      "cell_type": "code",
      "execution_count": 532,
      "metadata": {},
      "outputs": [
        {
          "data": {
            "text/html": [
              "<div>\n",
              "<style scoped>\n",
              "    .dataframe tbody tr th:only-of-type {\n",
              "        vertical-align: middle;\n",
              "    }\n",
              "\n",
              "    .dataframe tbody tr th {\n",
              "        vertical-align: top;\n",
              "    }\n",
              "\n",
              "    .dataframe thead th {\n",
              "        text-align: right;\n",
              "    }\n",
              "</style>\n",
              "<table border=\"1\" class=\"dataframe\">\n",
              "  <thead>\n",
              "    <tr style=\"text-align: right;\">\n",
              "      <th></th>\n",
              "      <th>Intercept</th>\n",
              "      <th>Secteur_Classe_y[T.Infrastructure et Finance]</th>\n",
              "      <th>RE_discret_y[T.1]</th>\n",
              "      <th>RDA_discret_y[T.1]</th>\n",
              "      <th>RD_discret_y[T.1]</th>\n",
              "      <th>MBE_discret_y[T.1]</th>\n",
              "      <th>IMPACT_SOCIAUX_ENVIRONNEMENTAL_y[T.Impact social ou environnemental marginal]</th>\n",
              "      <th>IMPACT_SOCIAUX_ENVIRONNEMENTAL_y[T.Impact social ou environnemental potentiel mais reversible]</th>\n",
              "      <th>Annee_y</th>\n",
              "      <th>defaut_y</th>\n",
              "    </tr>\n",
              "  </thead>\n",
              "  <tbody>\n",
              "    <tr>\n",
              "      <th>245</th>\n",
              "      <td>1.0</td>\n",
              "      <td>1.0</td>\n",
              "      <td>0.0</td>\n",
              "      <td>0.0</td>\n",
              "      <td>1.0</td>\n",
              "      <td>0.0</td>\n",
              "      <td>1.0</td>\n",
              "      <td>0.0</td>\n",
              "      <td>2017.0</td>\n",
              "      <td>0.0</td>\n",
              "    </tr>\n",
              "    <tr>\n",
              "      <th>1497</th>\n",
              "      <td>1.0</td>\n",
              "      <td>0.0</td>\n",
              "      <td>1.0</td>\n",
              "      <td>0.0</td>\n",
              "      <td>0.0</td>\n",
              "      <td>1.0</td>\n",
              "      <td>1.0</td>\n",
              "      <td>0.0</td>\n",
              "      <td>2017.0</td>\n",
              "      <td>0.0</td>\n",
              "    </tr>\n",
              "    <tr>\n",
              "      <th>1176</th>\n",
              "      <td>1.0</td>\n",
              "      <td>1.0</td>\n",
              "      <td>1.0</td>\n",
              "      <td>0.0</td>\n",
              "      <td>0.0</td>\n",
              "      <td>1.0</td>\n",
              "      <td>0.0</td>\n",
              "      <td>0.0</td>\n",
              "      <td>2018.0</td>\n",
              "      <td>0.0</td>\n",
              "    </tr>\n",
              "    <tr>\n",
              "      <th>164</th>\n",
              "      <td>1.0</td>\n",
              "      <td>0.0</td>\n",
              "      <td>0.0</td>\n",
              "      <td>0.0</td>\n",
              "      <td>1.0</td>\n",
              "      <td>1.0</td>\n",
              "      <td>0.0</td>\n",
              "      <td>0.0</td>\n",
              "      <td>2016.0</td>\n",
              "      <td>0.0</td>\n",
              "    </tr>\n",
              "    <tr>\n",
              "      <th>352</th>\n",
              "      <td>1.0</td>\n",
              "      <td>0.0</td>\n",
              "      <td>1.0</td>\n",
              "      <td>0.0</td>\n",
              "      <td>0.0</td>\n",
              "      <td>1.0</td>\n",
              "      <td>0.0</td>\n",
              "      <td>0.0</td>\n",
              "      <td>2016.0</td>\n",
              "      <td>0.0</td>\n",
              "    </tr>\n",
              "  </tbody>\n",
              "</table>\n",
              "</div>"
            ],
            "text/plain": [
              "      Intercept  Secteur_Classe_y[T.Infrastructure et Finance]  \\\n",
              "245         1.0                                            1.0   \n",
              "1497        1.0                                            0.0   \n",
              "1176        1.0                                            1.0   \n",
              "164         1.0                                            0.0   \n",
              "352         1.0                                            0.0   \n",
              "\n",
              "      RE_discret_y[T.1]  RDA_discret_y[T.1]  RD_discret_y[T.1]  \\\n",
              "245                 0.0                 0.0                1.0   \n",
              "1497                1.0                 0.0                0.0   \n",
              "1176                1.0                 0.0                0.0   \n",
              "164                 0.0                 0.0                1.0   \n",
              "352                 1.0                 0.0                0.0   \n",
              "\n",
              "      MBE_discret_y[T.1]  \\\n",
              "245                  0.0   \n",
              "1497                 1.0   \n",
              "1176                 1.0   \n",
              "164                  1.0   \n",
              "352                  1.0   \n",
              "\n",
              "      IMPACT_SOCIAUX_ENVIRONNEMENTAL_y[T.Impact social ou environnemental marginal]  \\\n",
              "245                                                 1.0                               \n",
              "1497                                                1.0                               \n",
              "1176                                                0.0                               \n",
              "164                                                 0.0                               \n",
              "352                                                 0.0                               \n",
              "\n",
              "      IMPACT_SOCIAUX_ENVIRONNEMENTAL_y[T.Impact social ou environnemental potentiel mais reversible]  \\\n",
              "245                                                 0.0                                                \n",
              "1497                                                0.0                                                \n",
              "1176                                                0.0                                                \n",
              "164                                                 0.0                                                \n",
              "352                                                 0.0                                                \n",
              "\n",
              "      Annee_y  defaut_y  \n",
              "245    2017.0       0.0  \n",
              "1497   2017.0       0.0  \n",
              "1176   2018.0       0.0  \n",
              "164    2016.0       0.0  \n",
              "352    2016.0       0.0  "
            ]
          },
          "execution_count": 532,
          "metadata": {},
          "output_type": "execute_result"
        }
      ],
      "source": [
        "model_expr = 'Annee_y ~ Annee_y + defaut_y + Secteur_Classe_y+ RE_discret_y  + RDA_discret_y + RD_discret_y + MBE_discret_y+ IMPACT_SOCIAUX_ENVIRONNEMENTAL_y '\n",
        "#Use the model expression to break out the CELL_TYPE categorical variable into 1-0 type columns\n",
        "y, X = dmatrices(model_expr, train_set, return_type='dataframe')\n",
        "X.drop('IMPACT_SOCIAUX_ENVIRONNEMENTAL_y[T.Fort impact social ou environnemental irreversible]', axis=1, inplace=True)\n",
        "X.drop('Secteur_Classe_y[T.Service]', axis=1, inplace=True)\n",
        "\n",
        "#Print out the first few rows\n",
        "X.head()"
      ]
    },
    {
      "cell_type": "code",
      "execution_count": 533,
      "metadata": {},
      "outputs": [
        {
          "data": {
            "text/html": [
              "<div>\n",
              "<style scoped>\n",
              "    .dataframe tbody tr th:only-of-type {\n",
              "        vertical-align: middle;\n",
              "    }\n",
              "\n",
              "    .dataframe tbody tr th {\n",
              "        vertical-align: top;\n",
              "    }\n",
              "\n",
              "    .dataframe thead th {\n",
              "        text-align: right;\n",
              "    }\n",
              "</style>\n",
              "<table border=\"1\" class=\"dataframe\">\n",
              "  <tbody>\n",
              "    <tr>\n",
              "      <th>model</th>\n",
              "      <td>lifelines.CoxPHFitter</td>\n",
              "    </tr>\n",
              "    <tr>\n",
              "      <th>duration col</th>\n",
              "      <td>'Annee_y'</td>\n",
              "    </tr>\n",
              "    <tr>\n",
              "      <th>event col</th>\n",
              "      <td>'defaut_y'</td>\n",
              "    </tr>\n",
              "    <tr>\n",
              "      <th>baseline estimation</th>\n",
              "      <td>breslow</td>\n",
              "    </tr>\n",
              "    <tr>\n",
              "      <th>number of observations</th>\n",
              "      <td>1216</td>\n",
              "    </tr>\n",
              "    <tr>\n",
              "      <th>number of events observed</th>\n",
              "      <td>42</td>\n",
              "    </tr>\n",
              "    <tr>\n",
              "      <th>partial log-likelihood</th>\n",
              "      <td>-245.51</td>\n",
              "    </tr>\n",
              "    <tr>\n",
              "      <th>time fit was run</th>\n",
              "      <td>2024-04-12 20:46:17 UTC</td>\n",
              "    </tr>\n",
              "  </tbody>\n",
              "</table>\n",
              "</div><table border=\"1\" class=\"dataframe\">\n",
              "  <thead>\n",
              "    <tr style=\"text-align: right;\">\n",
              "      <th style=\"min-width: 12px;\"></th>\n",
              "      <th style=\"min-width: 12px;\">coef</th>\n",
              "      <th style=\"min-width: 12px;\">exp(coef)</th>\n",
              "      <th style=\"min-width: 12px;\">se(coef)</th>\n",
              "      <th style=\"min-width: 12px;\">coef lower 95%</th>\n",
              "      <th style=\"min-width: 12px;\">coef upper 95%</th>\n",
              "      <th style=\"min-width: 12px;\">exp(coef) lower 95%</th>\n",
              "      <th style=\"min-width: 12px;\">exp(coef) upper 95%</th>\n",
              "      <th style=\"min-width: 12px;\">cmp to</th>\n",
              "      <th style=\"min-width: 12px;\">z</th>\n",
              "      <th style=\"min-width: 12px;\">p</th>\n",
              "      <th style=\"min-width: 12px;\">-log2(p)</th>\n",
              "    </tr>\n",
              "  </thead>\n",
              "  <tbody>\n",
              "    <tr>\n",
              "      <th>Secteur_Classe_y[T.Infrastructure et Finance]</th>\n",
              "      <td>0.84</td>\n",
              "      <td>2.31</td>\n",
              "      <td>0.31</td>\n",
              "      <td>0.22</td>\n",
              "      <td>1.45</td>\n",
              "      <td>1.25</td>\n",
              "      <td>4.28</td>\n",
              "      <td>0.00</td>\n",
              "      <td>2.67</td>\n",
              "      <td>0.01</td>\n",
              "      <td>7.06</td>\n",
              "    </tr>\n",
              "    <tr>\n",
              "      <th>RE_discret_y[T.1]</th>\n",
              "      <td>-0.56</td>\n",
              "      <td>0.57</td>\n",
              "      <td>0.39</td>\n",
              "      <td>-1.32</td>\n",
              "      <td>0.20</td>\n",
              "      <td>0.27</td>\n",
              "      <td>1.22</td>\n",
              "      <td>0.00</td>\n",
              "      <td>-1.45</td>\n",
              "      <td>0.15</td>\n",
              "      <td>2.77</td>\n",
              "    </tr>\n",
              "    <tr>\n",
              "      <th>RDA_discret_y[T.1]</th>\n",
              "      <td>-0.68</td>\n",
              "      <td>0.51</td>\n",
              "      <td>0.38</td>\n",
              "      <td>-1.43</td>\n",
              "      <td>0.07</td>\n",
              "      <td>0.24</td>\n",
              "      <td>1.08</td>\n",
              "      <td>0.00</td>\n",
              "      <td>-1.77</td>\n",
              "      <td>0.08</td>\n",
              "      <td>3.69</td>\n",
              "    </tr>\n",
              "    <tr>\n",
              "      <th>RD_discret_y[T.1]</th>\n",
              "      <td>0.10</td>\n",
              "      <td>1.10</td>\n",
              "      <td>0.35</td>\n",
              "      <td>-0.59</td>\n",
              "      <td>0.79</td>\n",
              "      <td>0.55</td>\n",
              "      <td>2.20</td>\n",
              "      <td>0.00</td>\n",
              "      <td>0.28</td>\n",
              "      <td>0.78</td>\n",
              "      <td>0.36</td>\n",
              "    </tr>\n",
              "    <tr>\n",
              "      <th>MBE_discret_y[T.1]</th>\n",
              "      <td>-0.69</td>\n",
              "      <td>0.50</td>\n",
              "      <td>0.35</td>\n",
              "      <td>-1.38</td>\n",
              "      <td>0.00</td>\n",
              "      <td>0.25</td>\n",
              "      <td>1.00</td>\n",
              "      <td>0.00</td>\n",
              "      <td>-1.95</td>\n",
              "      <td>0.05</td>\n",
              "      <td>4.30</td>\n",
              "    </tr>\n",
              "    <tr>\n",
              "      <th>IMPACT_SOCIAUX_ENVIRONNEMENTAL_y[T.Impact social ou environnemental marginal]</th>\n",
              "      <td>-0.80</td>\n",
              "      <td>0.45</td>\n",
              "      <td>0.48</td>\n",
              "      <td>-1.75</td>\n",
              "      <td>0.14</td>\n",
              "      <td>0.17</td>\n",
              "      <td>1.15</td>\n",
              "      <td>0.00</td>\n",
              "      <td>-1.67</td>\n",
              "      <td>0.09</td>\n",
              "      <td>3.40</td>\n",
              "    </tr>\n",
              "    <tr>\n",
              "      <th>IMPACT_SOCIAUX_ENVIRONNEMENTAL_y[T.Impact social ou environnemental potentiel mais reversible]</th>\n",
              "      <td>-0.61</td>\n",
              "      <td>0.54</td>\n",
              "      <td>0.73</td>\n",
              "      <td>-2.04</td>\n",
              "      <td>0.82</td>\n",
              "      <td>0.13</td>\n",
              "      <td>2.26</td>\n",
              "      <td>0.00</td>\n",
              "      <td>-0.84</td>\n",
              "      <td>0.40</td>\n",
              "      <td>1.32</td>\n",
              "    </tr>\n",
              "  </tbody>\n",
              "</table><br><div>\n",
              "<style scoped>\n",
              "    .dataframe tbody tr th:only-of-type {\n",
              "        vertical-align: middle;\n",
              "    }\n",
              "\n",
              "    .dataframe tbody tr th {\n",
              "        vertical-align: top;\n",
              "    }\n",
              "\n",
              "    .dataframe thead th {\n",
              "        text-align: right;\n",
              "    }\n",
              "</style>\n",
              "<table border=\"1\" class=\"dataframe\">\n",
              "  <tbody>\n",
              "    <tr>\n",
              "      <th>Concordance</th>\n",
              "      <td>0.75</td>\n",
              "    </tr>\n",
              "    <tr>\n",
              "      <th>Partial AIC</th>\n",
              "      <td>505.03</td>\n",
              "    </tr>\n",
              "    <tr>\n",
              "      <th>log-likelihood ratio test</th>\n",
              "      <td>26.68 on 7 df</td>\n",
              "    </tr>\n",
              "    <tr>\n",
              "      <th>-log2(p) of ll-ratio test</th>\n",
              "      <td>11.36</td>\n",
              "    </tr>\n",
              "  </tbody>\n",
              "</table>\n",
              "</div>"
            ],
            "text/latex": [
              "\\begin{tabular}{lrrrrrrrrrrr}\n",
              " & coef & exp(coef) & se(coef) & coef lower 95% & coef upper 95% & exp(coef) lower 95% & exp(coef) upper 95% & cmp to & z & p & -log2(p) \\\\\n",
              "covariate &  &  &  &  &  &  &  &  &  &  &  \\\\\n",
              "Secteur_Classe_y[T.Infrastructure et Finance] & 0.84 & 2.31 & 0.31 & 0.22 & 1.45 & 1.25 & 4.28 & 0.00 & 2.67 & 0.01 & 7.06 \\\\\n",
              "RE_discret_y[T.1] & -0.56 & 0.57 & 0.39 & -1.32 & 0.20 & 0.27 & 1.22 & 0.00 & -1.45 & 0.15 & 2.77 \\\\\n",
              "RDA_discret_y[T.1] & -0.68 & 0.51 & 0.38 & -1.43 & 0.07 & 0.24 & 1.08 & 0.00 & -1.77 & 0.08 & 3.69 \\\\\n",
              "RD_discret_y[T.1] & 0.10 & 1.10 & 0.35 & -0.59 & 0.79 & 0.55 & 2.20 & 0.00 & 0.28 & 0.78 & 0.36 \\\\\n",
              "MBE_discret_y[T.1] & -0.69 & 0.50 & 0.35 & -1.38 & 0.00 & 0.25 & 1.00 & 0.00 & -1.95 & 0.05 & 4.30 \\\\\n",
              "IMPACT_SOCIAUX_ENVIRONNEMENTAL_y[T.Impact social ou environnemental marginal] & -0.80 & 0.45 & 0.48 & -1.75 & 0.14 & 0.17 & 1.15 & 0.00 & -1.67 & 0.09 & 3.40 \\\\\n",
              "IMPACT_SOCIAUX_ENVIRONNEMENTAL_y[T.Impact social ou environnemental potentiel mais reversible] & -0.61 & 0.54 & 0.73 & -2.04 & 0.82 & 0.13 & 2.26 & 0.00 & -0.84 & 0.40 & 1.32 \\\\\n",
              "\\end{tabular}\n"
            ],
            "text/plain": [
              "<lifelines.CoxPHFitter: fitted with 1216 total observations, 1174 right-censored observations>\n",
              "             duration col = 'Annee_y'\n",
              "                event col = 'defaut_y'\n",
              "      baseline estimation = breslow\n",
              "   number of observations = 1216\n",
              "number of events observed = 42\n",
              "   partial log-likelihood = -245.51\n",
              "         time fit was run = 2024-04-12 20:46:17 UTC\n",
              "\n",
              "---\n",
              "                                                                                                coef exp(coef)  se(coef)  coef lower 95%  coef upper 95% exp(coef) lower 95% exp(coef) upper 95%\n",
              "covariate                                                                                                                                                                                       \n",
              "Secteur_Classe_y[T.Infrastructure et Finance]                                                   0.84      2.31      0.31            0.22            1.45                1.25                4.28\n",
              "RE_discret_y[T.1]                                                                              -0.56      0.57      0.39           -1.32            0.20                0.27                1.22\n",
              "RDA_discret_y[T.1]                                                                             -0.68      0.51      0.38           -1.43            0.07                0.24                1.08\n",
              "RD_discret_y[T.1]                                                                               0.10      1.10      0.35           -0.59            0.79                0.55                2.20\n",
              "MBE_discret_y[T.1]                                                                             -0.69      0.50      0.35           -1.38            0.00                0.25                1.00\n",
              "IMPACT_SOCIAUX_ENVIRONNEMENTAL_y[T.Impact social ou environnemental marginal]                  -0.80      0.45      0.48           -1.75            0.14                0.17                1.15\n",
              "IMPACT_SOCIAUX_ENVIRONNEMENTAL_y[T.Impact social ou environnemental potentiel mais reversible] -0.61      0.54      0.73           -2.04            0.82                0.13                2.26\n",
              "\n",
              "                                                                                                cmp to     z    p  -log2(p)\n",
              "covariate                                                                                                                  \n",
              "Secteur_Classe_y[T.Infrastructure et Finance]                                                     0.00  2.67 0.01      7.06\n",
              "RE_discret_y[T.1]                                                                                 0.00 -1.45 0.15      2.77\n",
              "RDA_discret_y[T.1]                                                                                0.00 -1.77 0.08      3.69\n",
              "RD_discret_y[T.1]                                                                                 0.00  0.28 0.78      0.36\n",
              "MBE_discret_y[T.1]                                                                                0.00 -1.95 0.05      4.30\n",
              "IMPACT_SOCIAUX_ENVIRONNEMENTAL_y[T.Impact social ou environnemental marginal]                     0.00 -1.67 0.09      3.40\n",
              "IMPACT_SOCIAUX_ENVIRONNEMENTAL_y[T.Impact social ou environnemental potentiel mais reversible]    0.00 -0.84 0.40      1.32\n",
              "---\n",
              "Concordance = 0.75\n",
              "Partial AIC = 505.03\n",
              "log-likelihood ratio test = 26.68 on 7 df\n",
              "-log2(p) of ll-ratio test = 11.36"
            ]
          },
          "metadata": {},
          "output_type": "display_data"
        }
      ],
      "source": [
        "cph_model = CoxPHFitter()\n",
        "cph_model.fit(df=X, duration_col='Annee_y', event_col='defaut_y')\n",
        "\n",
        "cph_model.print_summary()"
      ]
    },
    {
      "cell_type": "markdown",
      "metadata": {},
      "source": [
        "$\\textbf{Interprétation}$ :\n",
        "\n",
        "Pour la variable RE_discret_y[T.1] par exemple avoir un RE > 1.94%  diminue le risque de defaut de 43% (1-0.57).\n",
        "Un resultat notable est que appartenir au secteur Finance et Infrastructures augment le risque de tomber en défaut de 2,31."
      ]
    },
    {
      "cell_type": "code",
      "execution_count": 534,
      "metadata": {},
      "outputs": [
        {
          "name": "stdout",
          "output_type": "stream",
          "text": [
            "Proportional hazard assumption looks okay.\n"
          ]
        },
        {
          "data": {
            "text/plain": [
              "[]"
            ]
          },
          "execution_count": 534,
          "metadata": {},
          "output_type": "execute_result"
        }
      ],
      "source": [
        "cph_model.check_assumptions(X, p_value_threshold = 0.05)"
      ]
    },
    {
      "cell_type": "code",
      "execution_count": 535,
      "metadata": {},
      "outputs": [
        {
          "data": {
            "text/html": [
              "<div>\n",
              "<style scoped>\n",
              "    .dataframe tbody tr th:only-of-type {\n",
              "        vertical-align: middle;\n",
              "    }\n",
              "\n",
              "    .dataframe tbody tr th {\n",
              "        vertical-align: top;\n",
              "    }\n",
              "\n",
              "    .dataframe thead th {\n",
              "        text-align: right;\n",
              "    }\n",
              "</style>\n",
              "<table border=\"1\" class=\"dataframe\">\n",
              "  <tbody>\n",
              "    <tr>\n",
              "      <th>time_transform</th>\n",
              "      <td>log</td>\n",
              "    </tr>\n",
              "    <tr>\n",
              "      <th>null_distribution</th>\n",
              "      <td>chi squared</td>\n",
              "    </tr>\n",
              "    <tr>\n",
              "      <th>degrees_of_freedom</th>\n",
              "      <td>1</td>\n",
              "    </tr>\n",
              "    <tr>\n",
              "      <th>model</th>\n",
              "      <td>&lt;lifelines.CoxPHFitter: fitted with 1216 total...</td>\n",
              "    </tr>\n",
              "    <tr>\n",
              "      <th>test_name</th>\n",
              "      <td>proportional_hazard_test</td>\n",
              "    </tr>\n",
              "  </tbody>\n",
              "</table>\n",
              "</div><table border=\"1\" class=\"dataframe\">\n",
              "  <thead>\n",
              "    <tr style=\"text-align: right;\">\n",
              "      <th></th>\n",
              "      <th>test_statistic</th>\n",
              "      <th>p</th>\n",
              "      <th>-log2(p)</th>\n",
              "    </tr>\n",
              "  </thead>\n",
              "  <tbody>\n",
              "    <tr>\n",
              "      <th>IMPACT_SOCIAUX_ENVIRONNEMENTAL_y[T.Impact social ou environnemental marginal]</th>\n",
              "      <td>0.01</td>\n",
              "      <td>0.92</td>\n",
              "      <td>0.12</td>\n",
              "    </tr>\n",
              "    <tr>\n",
              "      <th>IMPACT_SOCIAUX_ENVIRONNEMENTAL_y[T.Impact social ou environnemental potentiel mais reversible]</th>\n",
              "      <td>2.24</td>\n",
              "      <td>0.13</td>\n",
              "      <td>2.90</td>\n",
              "    </tr>\n",
              "    <tr>\n",
              "      <th>MBE_discret_y[T.1]</th>\n",
              "      <td>0.07</td>\n",
              "      <td>0.79</td>\n",
              "      <td>0.33</td>\n",
              "    </tr>\n",
              "    <tr>\n",
              "      <th>RDA_discret_y[T.1]</th>\n",
              "      <td>0.00</td>\n",
              "      <td>0.99</td>\n",
              "      <td>0.02</td>\n",
              "    </tr>\n",
              "    <tr>\n",
              "      <th>RD_discret_y[T.1]</th>\n",
              "      <td>0.12</td>\n",
              "      <td>0.73</td>\n",
              "      <td>0.45</td>\n",
              "    </tr>\n",
              "    <tr>\n",
              "      <th>RE_discret_y[T.1]</th>\n",
              "      <td>0.02</td>\n",
              "      <td>0.89</td>\n",
              "      <td>0.17</td>\n",
              "    </tr>\n",
              "    <tr>\n",
              "      <th>Secteur_Classe_y[T.Infrastructure et Finance]</th>\n",
              "      <td>0.34</td>\n",
              "      <td>0.56</td>\n",
              "      <td>0.83</td>\n",
              "    </tr>\n",
              "  </tbody>\n",
              "</table>"
            ],
            "text/latex": [
              "\\begin{tabular}{lrrr}\n",
              " & test_statistic & p & -log2(p) \\\\\n",
              "IMPACT_SOCIAUX_ENVIRONNEMENTAL_y[T.Impact social ou environnemental marginal] & 0.01 & 0.92 & 0.12 \\\\\n",
              "IMPACT_SOCIAUX_ENVIRONNEMENTAL_y[T.Impact social ou environnemental potentiel mais reversible] & 2.24 & 0.13 & 2.90 \\\\\n",
              "MBE_discret_y[T.1] & 0.07 & 0.79 & 0.33 \\\\\n",
              "RDA_discret_y[T.1] & 0.00 & 0.99 & 0.02 \\\\\n",
              "RD_discret_y[T.1] & 0.12 & 0.73 & 0.45 \\\\\n",
              "RE_discret_y[T.1] & 0.02 & 0.89 & 0.17 \\\\\n",
              "Secteur_Classe_y[T.Infrastructure et Finance] & 0.34 & 0.56 & 0.83 \\\\\n",
              "\\end{tabular}\n"
            ],
            "text/plain": [
              "<lifelines.StatisticalResult: proportional_hazard_test>\n",
              "    time_transform = log\n",
              " null_distribution = chi squared\n",
              "degrees_of_freedom = 1\n",
              "             model = <lifelines.CoxPHFitter: fitted with 1216 total observations, 1174 right-censored observations>\n",
              "         test_name = proportional_hazard_test\n",
              "\n",
              "---\n",
              "                                                                                                test_statistic    p  -log2(p)\n",
              "IMPACT_SOCIAUX_ENVIRONNEMENTAL_y[T.Impact social ou environnemental marginal]                             0.01 0.92      0.12\n",
              "IMPACT_SOCIAUX_ENVIRONNEMENTAL_y[T.Impact social ou environnemental potentiel mais reversible]            2.24 0.13      2.90\n",
              "MBE_discret_y[T.1]                                                                                        0.07 0.79      0.33\n",
              "RDA_discret_y[T.1]                                                                                        0.00 0.99      0.02\n",
              "RD_discret_y[T.1]                                                                                         0.12 0.73      0.45\n",
              "RE_discret_y[T.1]                                                                                         0.02 0.89      0.17\n",
              "Secteur_Classe_y[T.Infrastructure et Finance]                                                             0.34 0.56      0.83"
            ]
          },
          "execution_count": 535,
          "metadata": {},
          "output_type": "execute_result"
        }
      ],
      "source": [
        "proportional_hazard_test(fitted_cox_model=cph_model, training_df=X, time_transform='log')"
      ]
    },
    {
      "cell_type": "code",
      "execution_count": 536,
      "metadata": {},
      "outputs": [
        {
          "name": "stdout",
          "output_type": "stream",
          "text": [
            "Concordance Index: 0.8662087912087912\n"
          ]
        }
      ],
      "source": [
        "#sorte d'accuracy du modèle\n",
        "y_test, X_test = dmatrices(model_expr, test_set, return_type='dataframe')\n",
        "\n",
        "# Calcul du C-index\n",
        "c_index = cph_model.score(X_test, scoring_method=\"concordance_index\")\n",
        "print(f\"Concordance Index: {c_index}\")"
      ]
    },
    {
      "cell_type": "code",
      "execution_count": 537,
      "metadata": {},
      "outputs": [
        {
          "data": {
            "text/plain": [
              "<Axes: >"
            ]
          },
          "execution_count": 537,
          "metadata": {},
          "output_type": "execute_result"
        },
        {
          "data": {
            "image/png": "[encoded data removed]",
            "text/plain": [
              "<Figure size 640x480 with 1 Axes>"
            ]
          },
          "metadata": {},
          "output_type": "display_data"
        }
      ],
      "source": [
        "# Choisissez une variable à analyser\n",
        "covariate = 'RDA_discret_y[T.1]'\n",
        "\n",
        "# Définissez les valeurs pour lesquelles vous voulez voir l'effet\n",
        "values = [0, 1]\n",
        "\n",
        "# Utilisez la fonction plot_partial_effects_on_outcome pour visualiser l'effet\n",
        "cph_model.plot_partial_effects_on_outcome(covariates=covariate, values=values)\n"
      ]
    },
    {
      "cell_type": "code",
      "execution_count": 538,
      "metadata": {},
      "outputs": [],
      "source": [
        "test_predictions = cph_model.predict_expectation(X_test)"
      ]
    },
    {
      "cell_type": "code",
      "execution_count": 539,
      "metadata": {},
      "outputs": [
        {
          "data": {
            "text/html": [
              "<div>\n",
              "<style scoped>\n",
              "    .dataframe tbody tr th:only-of-type {\n",
              "        vertical-align: middle;\n",
              "    }\n",
              "\n",
              "    .dataframe tbody tr th {\n",
              "        vertical-align: top;\n",
              "    }\n",
              "\n",
              "    .dataframe thead th {\n",
              "        text-align: right;\n",
              "    }\n",
              "</style>\n",
              "<table border=\"1\" class=\"dataframe\">\n",
              "  <thead>\n",
              "    <tr style=\"text-align: right;\">\n",
              "      <th></th>\n",
              "      <th>numtiers</th>\n",
              "      <th>defaut_y</th>\n",
              "      <th>Annee_y</th>\n",
              "      <th>Secteur_Classe_y</th>\n",
              "      <th>RE_discret_y</th>\n",
              "      <th>RDA_discret_y</th>\n",
              "      <th>MBE_discret_y</th>\n",
              "      <th>RD_discret_y</th>\n",
              "      <th>IMPACT_SOCIAUX_ENVIRONNEMENTAL_y</th>\n",
              "      <th>Censure</th>\n",
              "      <th>predicted_survival</th>\n",
              "    </tr>\n",
              "  </thead>\n",
              "  <tbody>\n",
              "    <tr>\n",
              "      <th>373</th>\n",
              "      <td>5200001298883</td>\n",
              "      <td>0</td>\n",
              "      <td>2019</td>\n",
              "      <td>Infrastructure et Finance</td>\n",
              "      <td>0</td>\n",
              "      <td>0</td>\n",
              "      <td>0</td>\n",
              "      <td>1</td>\n",
              "      <td>Aucun impact social ou environnemental, soumis...</td>\n",
              "      <td>1</td>\n",
              "      <td>3.392207</td>\n",
              "    </tr>\n",
              "    <tr>\n",
              "      <th>393</th>\n",
              "      <td>5200001298951</td>\n",
              "      <td>1</td>\n",
              "      <td>2015</td>\n",
              "      <td>Infrastructure et Finance</td>\n",
              "      <td>0</td>\n",
              "      <td>0</td>\n",
              "      <td>0</td>\n",
              "      <td>1</td>\n",
              "      <td>Aucun impact social ou environnemental, soumis...</td>\n",
              "      <td>0</td>\n",
              "      <td>3.392207</td>\n",
              "    </tr>\n",
              "    <tr>\n",
              "      <th>1234</th>\n",
              "      <td>5200007213395</td>\n",
              "      <td>0</td>\n",
              "      <td>2018</td>\n",
              "      <td>Infrastructure et Finance</td>\n",
              "      <td>0</td>\n",
              "      <td>0</td>\n",
              "      <td>0</td>\n",
              "      <td>1</td>\n",
              "      <td>Aucun impact social ou environnemental, soumis...</td>\n",
              "      <td>1</td>\n",
              "      <td>3.392207</td>\n",
              "    </tr>\n",
              "    <tr>\n",
              "      <th>398</th>\n",
              "      <td>5200001298962</td>\n",
              "      <td>0</td>\n",
              "      <td>2018</td>\n",
              "      <td>Infrastructure et Finance</td>\n",
              "      <td>0</td>\n",
              "      <td>0</td>\n",
              "      <td>0</td>\n",
              "      <td>1</td>\n",
              "      <td>Aucun impact social ou environnemental, soumis...</td>\n",
              "      <td>1</td>\n",
              "      <td>3.392207</td>\n",
              "    </tr>\n",
              "    <tr>\n",
              "      <th>1374</th>\n",
              "      <td>5200008000880</td>\n",
              "      <td>0</td>\n",
              "      <td>2018</td>\n",
              "      <td>Infrastructure et Finance</td>\n",
              "      <td>0</td>\n",
              "      <td>1</td>\n",
              "      <td>0</td>\n",
              "      <td>1</td>\n",
              "      <td>Aucun impact social ou environnemental, soumis...</td>\n",
              "      <td>1</td>\n",
              "      <td>3.668848</td>\n",
              "    </tr>\n",
              "    <tr>\n",
              "      <th>1377</th>\n",
              "      <td>5200008000880</td>\n",
              "      <td>0</td>\n",
              "      <td>2017</td>\n",
              "      <td>Infrastructure et Finance</td>\n",
              "      <td>0</td>\n",
              "      <td>1</td>\n",
              "      <td>0</td>\n",
              "      <td>1</td>\n",
              "      <td>Aucun impact social ou environnemental, soumis...</td>\n",
              "      <td>1</td>\n",
              "      <td>3.668848</td>\n",
              "    </tr>\n",
              "    <tr>\n",
              "      <th>321</th>\n",
              "      <td>5200001149909</td>\n",
              "      <td>0</td>\n",
              "      <td>2017</td>\n",
              "      <td>Infrastructure et Finance</td>\n",
              "      <td>0</td>\n",
              "      <td>1</td>\n",
              "      <td>0</td>\n",
              "      <td>1</td>\n",
              "      <td>Aucun impact social ou environnemental, soumis...</td>\n",
              "      <td>1</td>\n",
              "      <td>3.668848</td>\n",
              "    </tr>\n",
              "    <tr>\n",
              "      <th>1405</th>\n",
              "      <td>5200008164815</td>\n",
              "      <td>0</td>\n",
              "      <td>2016</td>\n",
              "      <td>Infrastructure et Finance</td>\n",
              "      <td>0</td>\n",
              "      <td>1</td>\n",
              "      <td>0</td>\n",
              "      <td>1</td>\n",
              "      <td>Aucun impact social ou environnemental, soumis...</td>\n",
              "      <td>1</td>\n",
              "      <td>3.668848</td>\n",
              "    </tr>\n",
              "    <tr>\n",
              "      <th>1275</th>\n",
              "      <td>5200007349840</td>\n",
              "      <td>0</td>\n",
              "      <td>2015</td>\n",
              "      <td>Infrastructure et Finance</td>\n",
              "      <td>0</td>\n",
              "      <td>0</td>\n",
              "      <td>1</td>\n",
              "      <td>1</td>\n",
              "      <td>Aucun impact social ou environnemental, soumis...</td>\n",
              "      <td>1</td>\n",
              "      <td>3.672356</td>\n",
              "    </tr>\n",
              "    <tr>\n",
              "      <th>361</th>\n",
              "      <td>5200001298810</td>\n",
              "      <td>0</td>\n",
              "      <td>2016</td>\n",
              "      <td>Infrastructure et Finance</td>\n",
              "      <td>0</td>\n",
              "      <td>0</td>\n",
              "      <td>1</td>\n",
              "      <td>1</td>\n",
              "      <td>Aucun impact social ou environnemental, soumis...</td>\n",
              "      <td>1</td>\n",
              "      <td>3.672356</td>\n",
              "    </tr>\n",
              "  </tbody>\n",
              "</table>\n",
              "</div>"
            ],
            "text/plain": [
              "           numtiers  defaut_y  Annee_y           Secteur_Classe_y  \\\n",
              "373   5200001298883         0     2019  Infrastructure et Finance   \n",
              "393   5200001298951         1     2015  Infrastructure et Finance   \n",
              "1234  5200007213395         0     2018  Infrastructure et Finance   \n",
              "398   5200001298962         0     2018  Infrastructure et Finance   \n",
              "1374  5200008000880         0     2018  Infrastructure et Finance   \n",
              "1377  5200008000880         0     2017  Infrastructure et Finance   \n",
              "321   5200001149909         0     2017  Infrastructure et Finance   \n",
              "1405  5200008164815         0     2016  Infrastructure et Finance   \n",
              "1275  5200007349840         0     2015  Infrastructure et Finance   \n",
              "361   5200001298810         0     2016  Infrastructure et Finance   \n",
              "\n",
              "     RE_discret_y RDA_discret_y MBE_discret_y RD_discret_y  \\\n",
              "373             0             0             0            1   \n",
              "393             0             0             0            1   \n",
              "1234            0             0             0            1   \n",
              "398             0             0             0            1   \n",
              "1374            0             1             0            1   \n",
              "1377            0             1             0            1   \n",
              "321             0             1             0            1   \n",
              "1405            0             1             0            1   \n",
              "1275            0             0             1            1   \n",
              "361             0             0             1            1   \n",
              "\n",
              "                       IMPACT_SOCIAUX_ENVIRONNEMENTAL_y  Censure  \\\n",
              "373   Aucun impact social ou environnemental, soumis...        1   \n",
              "393   Aucun impact social ou environnemental, soumis...        0   \n",
              "1234  Aucun impact social ou environnemental, soumis...        1   \n",
              "398   Aucun impact social ou environnemental, soumis...        1   \n",
              "1374  Aucun impact social ou environnemental, soumis...        1   \n",
              "1377  Aucun impact social ou environnemental, soumis...        1   \n",
              "321   Aucun impact social ou environnemental, soumis...        1   \n",
              "1405  Aucun impact social ou environnemental, soumis...        1   \n",
              "1275  Aucun impact social ou environnemental, soumis...        1   \n",
              "361   Aucun impact social ou environnemental, soumis...        1   \n",
              "\n",
              "      predicted_survival  \n",
              "373             3.392207  \n",
              "393             3.392207  \n",
              "1234            3.392207  \n",
              "398             3.392207  \n",
              "1374            3.668848  \n",
              "1377            3.668848  \n",
              "321             3.668848  \n",
              "1405            3.668848  \n",
              "1275            3.672356  \n",
              "361             3.672356  "
            ]
          },
          "execution_count": 539,
          "metadata": {},
          "output_type": "execute_result"
        }
      ],
      "source": [
        "# Add the predicted survival times to the test set\n",
        "test_set_with_predictions = test_set.assign(predicted_survival=test_predictions.values)\n",
        "\n",
        "# Sort the individuals by predicted survival time\n",
        "sorted_test_set = test_set_with_predictions.sort_values(by='predicted_survival')\n",
        "\n",
        "sorted_test_set.head(10)\n"
      ]
    },
    {
      "cell_type": "markdown",
      "metadata": {},
      "source": [
        "##### $\\textbf{Exemples}$"
      ]
    },
    {
      "cell_type": "code",
      "execution_count": 540,
      "metadata": {},
      "outputs": [
        {
          "data": {
            "text/html": [
              "<div>\n",
              "<style scoped>\n",
              "    .dataframe tbody tr th:only-of-type {\n",
              "        vertical-align: middle;\n",
              "    }\n",
              "\n",
              "    .dataframe tbody tr th {\n",
              "        vertical-align: top;\n",
              "    }\n",
              "\n",
              "    .dataframe thead th {\n",
              "        text-align: right;\n",
              "    }\n",
              "</style>\n",
              "<table border=\"1\" class=\"dataframe\">\n",
              "  <thead>\n",
              "    <tr style=\"text-align: right;\">\n",
              "      <th></th>\n",
              "      <th>numtiers</th>\n",
              "      <th>Annee</th>\n",
              "      <th>defaut</th>\n",
              "    </tr>\n",
              "  </thead>\n",
              "  <tbody>\n",
              "    <tr>\n",
              "      <th>837</th>\n",
              "      <td>5200007630651</td>\n",
              "      <td>2015</td>\n",
              "      <td>0</td>\n",
              "    </tr>\n",
              "    <tr>\n",
              "      <th>838</th>\n",
              "      <td>5200007630651</td>\n",
              "      <td>2016</td>\n",
              "      <td>0</td>\n",
              "    </tr>\n",
              "    <tr>\n",
              "      <th>839</th>\n",
              "      <td>5200007630651</td>\n",
              "      <td>2017</td>\n",
              "      <td>0</td>\n",
              "    </tr>\n",
              "    <tr>\n",
              "      <th>840</th>\n",
              "      <td>5200007630651</td>\n",
              "      <td>2018</td>\n",
              "      <td>0</td>\n",
              "    </tr>\n",
              "    <tr>\n",
              "      <th>1313</th>\n",
              "      <td>5200007630651</td>\n",
              "      <td>2019</td>\n",
              "      <td>0</td>\n",
              "    </tr>\n",
              "  </tbody>\n",
              "</table>\n",
              "</div>"
            ],
            "text/plain": [
              "           numtiers  Annee  defaut\n",
              "837   5200007630651   2015       0\n",
              "838   5200007630651   2016       0\n",
              "839   5200007630651   2017       0\n",
              "840   5200007630651   2018       0\n",
              "1313  5200007630651   2019       0"
            ]
          },
          "execution_count": 540,
          "metadata": {},
          "output_type": "execute_result"
        }
      ],
      "source": [
        "#pour cette on a predit que l'entreprise allait avoir un defaut au bout de 3.4 année ce qui semble être coherent si on fait round up\n",
        "#ce qui rend le resultat un peu biaisé c'est ce que ses covariable ont changé au cours du temps d'observation\n",
        "ex1 = jr[jr['numtiers'] == 5200007630651]\n",
        "\n",
        "# Afficher le résultat\n",
        "ex1[['numtiers','Annee','defaut']]"
      ]
    },
    {
      "cell_type": "markdown",
      "metadata": {},
      "source": [
        "### $\\textbf{Allons un peu plus loin avec d'autres modèle de prédiction}$\n",
        "\n",
        "Même si notre modèle semble avoir un bon score de Concordance ceci ne fait pas l'unamité si l'on observe les indivdu en défaut. Certes, il arrive à prédire des temps de survie convenable mais la base étant imbalancé il faut toujours porter attention à cet aspect.\n",
        "\n",
        "Malgré que les modèles de Survie sont assez robustes aux bases imbalancé on va tester d'autres méthodes avec réechantillonage pour voir les performances. "
      ]
    },
    {
      "cell_type": "code",
      "execution_count": 541,
      "metadata": {},
      "outputs": [],
      "source": [
        "jr2 = jr.copy()\n",
        "jr2 = jr2[['defaut', 'Secteur_Classe', 'RE_discret', 'RDA_discret', 'MBE_discret', 'RD_discret' , 'IMPACT_SOCIAUX_ENVIRONNEMENTAL']]\n",
        "# Encodage des variables catégorielles\n",
        "le = LabelEncoder()\n",
        "for col in jr2.columns[jr2.dtypes == \"object\"]:\n",
        "    jr2[col] = le.fit_transform(jr2[col])\n",
        "\n",
        "# Séparation des données en ensembles d'entraînement et de test\n",
        "X = jr2.drop('defaut', axis=1)\n",
        "y = jr2['defaut']\n",
        "\n",
        "# Application de SMOTE\n",
        "smote = SMOTE(random_state=2200014)\n",
        "X_resampled_smote, y_resampled_smote = smote.fit_resample(X, y)\n",
        "\n",
        "X_train, X_test, y_train, y_test = train_test_split(X_resampled_smote, y_resampled_smote, test_size=0.2, random_state=2200014)"
      ]
    },
    {
      "cell_type": "markdown",
      "metadata": {},
      "source": [
        "##### $\\textbf{Modèle 1 : Random Forest}$"
      ]
    },
    {
      "cell_type": "code",
      "execution_count": 542,
      "metadata": {},
      "outputs": [
        {
          "name": "stdout",
          "output_type": "stream",
          "text": [
            "              precision    recall  f1-score   support\n",
            "\n",
            "           0       0.83      0.79      0.81       294\n",
            "           1       0.80      0.84      0.82       294\n",
            "\n",
            "    accuracy                           0.81       588\n",
            "   macro avg       0.81      0.81      0.81       588\n",
            "weighted avg       0.81      0.81      0.81       588\n",
            "\n"
          ]
        }
      ],
      "source": [
        "rf_model = RandomForestClassifier()\n",
        "rf_model.fit(X_train, y_train)\n",
        "# Prédiction sur l'ensemble de test\n",
        "y_pred = rf_model.predict(X_test)\n",
        "\n",
        "# Affichage du rapport de classification\n",
        "print(classification_report(y_test, y_pred))"
      ]
    },
    {
      "cell_type": "code",
      "execution_count": 543,
      "metadata": {},
      "outputs": [
        {
          "data": {
            "image/png": "[encoded data removed]",
            "text/plain": [
              "<Figure size 640x480 with 1 Axes>"
            ]
          },
          "metadata": {},
          "output_type": "display_data"
        }
      ],
      "source": [
        "# Prédiction des probabilités de la classe positive\n",
        "y_pred_proba = rf_model.predict_proba(X_test)[::,1]\n",
        "\n",
        "# Calcul de la courbe ROC\n",
        "fpr, tpr, _ = roc_curve(y_test, y_pred_proba)\n",
        "\n",
        "# Calcul de l'aire sous la courbe ROC\n",
        "roc_auc = auc(fpr, tpr)\n",
        "\n",
        "# Tracé de la courbe ROC\n",
        "plt.figure()\n",
        "lw = 2\n",
        "plt.plot(fpr, tpr, color='darkorange', lw=lw, label='Courbe ROC (aire = %0.2f)' % roc_auc)\n",
        "plt.plot([0, 1], [0, 1], color='navy', lw=lw, linestyle='--')\n",
        "plt.xlim([0.0, 1.0])\n",
        "plt.ylim([0.0, 1.05])\n",
        "plt.xlabel('Taux de faux positifs')\n",
        "plt.ylabel('Taux de vrais positifs')\n",
        "plt.title('Courbe ROC')\n",
        "plt.legend(loc=\"lower right\")\n",
        "plt.show()"
      ]
    },
    {
      "cell_type": "markdown",
      "metadata": {},
      "source": [
        "#### $\\textbf{Modèle 2 : Régression Logistique}$"
      ]
    },
    {
      "cell_type": "code",
      "execution_count": 544,
      "metadata": {},
      "outputs": [
        {
          "name": "stdout",
          "output_type": "stream",
          "text": [
            "              precision    recall  f1-score   support\n",
            "\n",
            "           0       0.80      0.64      0.71       294\n",
            "           1       0.70      0.84      0.77       294\n",
            "\n",
            "    accuracy                           0.74       588\n",
            "   macro avg       0.75      0.74      0.74       588\n",
            "weighted avg       0.75      0.74      0.74       588\n",
            "\n"
          ]
        }
      ],
      "source": [
        "lg_model = LogisticRegression()\n",
        "lg_model.fit(X_train, y_train)\n",
        "y_pred_lg = lg_model.predict(X_test)\n",
        "print(classification_report(y_test, y_pred_lg))"
      ]
    },
    {
      "cell_type": "code",
      "execution_count": 545,
      "metadata": {},
      "outputs": [
        {
          "data": {
            "image/png": "[encoded data removed]",
            "text/plain": [
              "<Figure size 640x480 with 1 Axes>"
            ]
          },
          "metadata": {},
          "output_type": "display_data"
        }
      ],
      "source": [
        "# Prédiction des probabilités de la classe positive\n",
        "y_pred_proba_lg = lg_model.predict_proba(X_test)[::,1]\n",
        "\n",
        "# Calcul de la courbe ROC\n",
        "fpr_lg, tpr_lg, _ = roc_curve(y_test, y_pred_proba_lg)\n",
        "\n",
        "# Calcul de l'aire sous la courbe ROC\n",
        "roc_auc_lg = auc(fpr_lg, tpr_lg)\n",
        "\n",
        "# Tracé de la courbe ROC\n",
        "plt.figure()\n",
        "lw = 2\n",
        "plt.plot(fpr_lg, tpr_lg, color='darkorange', lw=lw, label='Courbe ROC (aire = %0.2f)' % roc_auc_lg)\n",
        "plt.plot([0, 1], [0, 1], color='navy', lw=lw, linestyle='--')\n",
        "plt.xlim([0.0, 1.0])\n",
        "plt.ylim([0.0, 1.05])\n",
        "plt.xlabel('Taux de faux positifs')\n",
        "plt.ylabel('Taux de vrais positifs')\n",
        "plt.title('Courbe ROC')\n",
        "plt.legend(loc=\"lower right\")\n",
        "plt.show()\n"
      ]
    },
    {
      "cell_type": "markdown",
      "metadata": {},
      "source": [
        "#### $\\textbf{Modèle 3 : Arbre de Décision}$"
      ]
    },
    {
      "cell_type": "code",
      "execution_count": 546,
      "metadata": {},
      "outputs": [
        {
          "name": "stdout",
          "output_type": "stream",
          "text": [
            "              precision    recall  f1-score   support\n",
            "\n",
            "           0       0.83      0.79      0.81       294\n",
            "           1       0.80      0.84      0.82       294\n",
            "\n",
            "    accuracy                           0.81       588\n",
            "   macro avg       0.81      0.81      0.81       588\n",
            "weighted avg       0.81      0.81      0.81       588\n",
            "\n"
          ]
        }
      ],
      "source": [
        "dt_model = DecisionTreeClassifier()\n",
        "dt_model.fit(X_train, y_train)\n",
        "y_pred_dt = dt_model.predict(X_test)\n",
        "print(classification_report(y_test, y_pred_dt))"
      ]
    },
    {
      "cell_type": "code",
      "execution_count": 547,
      "metadata": {},
      "outputs": [
        {
          "data": {
            "image/png": "[encoded data removed]",
            "text/plain": [
              "<Figure size 640x480 with 1 Axes>"
            ]
          },
          "metadata": {},
          "output_type": "display_data"
        }
      ],
      "source": [
        "# Prédiction des probabilités de la classe positive\n",
        "y_pred_proba_dt = dt_model.predict_proba(X_test)[::,1]\n",
        "\n",
        "# Calcul de la courbe ROC\n",
        "fpr_dt, tpr_dt, _ = roc_curve(y_test, y_pred_proba_dt)\n",
        "\n",
        "# Calcul de l'aire sous la courbe ROC\n",
        "roc_auc_dt = auc(fpr_dt, tpr_dt)\n",
        "\n",
        "# Tracé de la courbe ROC\n",
        "plt.figure()\n",
        "lw = 2\n",
        "plt.plot(fpr_dt, tpr_dt, color='darkorange', lw=lw, label='Courbe ROC (aire = %0.2f)' % roc_auc_dt)\n",
        "plt.plot([0, 1], [0, 1], color='navy', lw=lw, linestyle='--')\n",
        "plt.xlim([0.0, 1.0])\n",
        "plt.ylim([0.0, 1.05])\n",
        "plt.xlabel('Taux de faux positifs')\n",
        "plt.ylabel('Taux de vrais positifs')\n",
        "plt.title('Courbe ROC')\n",
        "plt.legend(loc=\"lower right\")\n",
        "plt.show()\n"
      ]
    },
    {
      "cell_type": "code",
      "execution_count": 548,
      "metadata": {},
      "outputs": [
        {
          "name": "stdout",
          "output_type": "stream",
          "text": [
            "Classification Report for Logistic Regression:\n",
            "              precision    recall  f1-score   support\n",
            "\n",
            "           0       0.80      0.64      0.71       294\n",
            "           1       0.70      0.84      0.77       294\n",
            "\n",
            "    accuracy                           0.74       588\n",
            "   macro avg       0.75      0.74      0.74       588\n",
            "weighted avg       0.75      0.74      0.74       588\n",
            "\n",
            "Classification Report for Decision Tree:\n",
            "              precision    recall  f1-score   support\n",
            "\n",
            "           0       0.83      0.79      0.81       294\n",
            "           1       0.80      0.84      0.82       294\n",
            "\n",
            "    accuracy                           0.81       588\n",
            "   macro avg       0.81      0.81      0.81       588\n",
            "weighted avg       0.81      0.81      0.81       588\n",
            "\n",
            "Classification Report for Random Forest:\n",
            "              precision    recall  f1-score   support\n",
            "\n",
            "           0       0.83      0.79      0.81       294\n",
            "           1       0.80      0.84      0.82       294\n",
            "\n",
            "    accuracy                           0.81       588\n",
            "   macro avg       0.81      0.81      0.81       588\n",
            "weighted avg       0.81      0.81      0.81       588\n",
            "\n"
          ]
        },
        {
          "data": {
            "image/png": "[encoded data removed]",
            "text/plain": [
              "<Figure size 640x480 with 1 Axes>"
            ]
          },
          "metadata": {},
          "output_type": "display_data"
        }
      ],
      "source": [
        "# Définition des modèles\n",
        "models = {\n",
        "    \"Logistic Regression\": LogisticRegression(),\n",
        "    \"Decision Tree\": DecisionTreeClassifier(),\n",
        "    \"Random Forest\": RandomForestClassifier(),\n",
        "}\n",
        "\n",
        "plt.figure()\n",
        "\n",
        "# Boucle sur les modèles\n",
        "for name, model in models.items():\n",
        "    # Entraînement du modèle\n",
        "    model.fit(X_train, y_train)\n",
        "    \n",
        "    # Prédiction des probabilités de la classe positive\n",
        "    y_pred_proba = model.predict_proba(X_test)[::,1]\n",
        "    \n",
        "    # Calcul de la courbe ROC\n",
        "    fpr, tpr, _ = roc_curve(y_test, y_pred_proba)\n",
        "    \n",
        "    # Calcul de l'aire sous la courbe ROC\n",
        "    roc_auc = auc(fpr, tpr)\n",
        "    \n",
        "    # Tracé de la courbe ROC\n",
        "    lw = 2\n",
        "    plt.plot(fpr, tpr, lw=lw, label='%s ROC curve (area = %0.2f)' % (name, roc_auc))\n",
        "    \n",
        "    # Prédiction sur l'ensemble de test\n",
        "    y_pred = model.predict(X_test)\n",
        "    \n",
        "    # Affichage du rapport de classification\n",
        "    print(f\"Classification Report for {name}:\")\n",
        "    print(classification_report(y_test, y_pred))\n",
        "\n",
        "# Tracé de la ligne diagonale\n",
        "plt.plot([0, 1], [0, 1], color='navy', lw=lw, linestyle='--')\n",
        "plt.xlim([0.0, 1.0])\n",
        "plt.ylim([0.0, 1.05])\n",
        "plt.xlabel('False Positive Rate')\n",
        "plt.ylabel('True Positive Rate')\n",
        "plt.title('Receiver Operating Characteristic')\n",
        "plt.legend(loc=\"lower right\")\n",
        "plt.show()\n"
      ]
    },
    {
      "cell_type": "markdown",
      "metadata": {},
      "source": [
        "#### $\\textbf{Conclusion}$\n",
        "\n",
        "On remarque dans notre cas qu'après réechantillonage le modèle de Forêt Aléatoire et Arbre de décision fournissent un resultat plus évident que le modèle de Régression logistique. \n",
        "\n",
        "A noter qu'on a utilisé les mêmes variables explicatives pour se raméner à une comparaison plus simple des modèles.\n",
        "\n",
        "A croire l'AUC les deux modèles : $\\textbf{DecisionTree et RandomForest}$ sont les mieux pour prédire le défaut."
      ]
    }
  ],
  "metadata": {
    "colab": {
      "provenance": []
    },
    "kernelspec": {
      "display_name": "Python 3",
      "name": "python3"
    },
    "language_info": {
      "codemirror_mode": {
        "name": "ipython",
        "version": 3
      },
      "file_extension": ".py",
      "mimetype": "text/x-python",
      "name": "python",
      "nbconvert_exporter": "python",
      "pygments_lexer": "ipython3",
      "version": "3.10.9"
    }
  },
  "nbformat": 4,
  "nbformat_minor": 0
}
